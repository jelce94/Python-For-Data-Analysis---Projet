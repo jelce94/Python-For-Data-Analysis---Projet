{
 "cells": [
  {
   "cell_type": "markdown",
   "metadata": {},
   "source": [
    "# Projet final Python For Data Analysis - CHASLE / CAZIER"
   ]
  },
  {
   "cell_type": "markdown",
   "metadata": {},
   "source": [
    "## Librairies"
   ]
  },
  {
   "cell_type": "code",
   "execution_count": 246,
   "metadata": {},
   "outputs": [],
   "source": [
    "import pandas as pd\n",
    "import numpy as np\n",
    "from datetime import datetime\n",
    "import matplotlib.pyplot as plt\n",
    "import seaborn as sns\n",
    "import ppscore as pps"
   ]
  },
  {
   "cell_type": "code",
   "execution_count": 2,
   "metadata": {},
   "outputs": [],
   "source": [
    "from imblearn.over_sampling import SMOTE\n",
    "from sklearn.model_selection import train_test_split, GridSearchCV\n",
    "from sklearn.ensemble import RandomForestClassifier\n",
    "from sklearn.ensemble import VotingClassifier\n",
    "from sklearn.naive_bayes import GaussianNB\n",
    "from sklearn.feature_extraction.text import CountVectorizer\n",
    "from sklearn.linear_model import LinearRegression\n",
    "from sklearn.linear_model import LogisticRegression\n",
    "from sklearn.metrics import r2_score, classification_report, confusion_matrix, accuracy_score, roc_auc_score, roc_curve, precision_recall_curve, average_precision_score\n",
    "from imblearn.pipeline import Pipeline\n",
    "from sklearn.ensemble import RandomForestClassifier\n",
    "from sklearn.model_selection import  cross_val_score"
   ]
  },
  {
   "cell_type": "code",
   "execution_count": 227,
   "metadata": {},
   "outputs": [],
   "source": [
    "df_iranian_churn = pd.read_csv('./Customer Churn.csv', sep=',')"
   ]
  },
  {
   "cell_type": "code",
   "execution_count": 4,
   "metadata": {},
   "outputs": [
    {
     "data": {
      "text/html": [
       "<div>\n",
       "<style scoped>\n",
       "    .dataframe tbody tr th:only-of-type {\n",
       "        vertical-align: middle;\n",
       "    }\n",
       "\n",
       "    .dataframe tbody tr th {\n",
       "        vertical-align: top;\n",
       "    }\n",
       "\n",
       "    .dataframe thead th {\n",
       "        text-align: right;\n",
       "    }\n",
       "</style>\n",
       "<table border=\"1\" class=\"dataframe\">\n",
       "  <thead>\n",
       "    <tr style=\"text-align: right;\">\n",
       "      <th></th>\n",
       "      <th>Call  Failure</th>\n",
       "      <th>Complains</th>\n",
       "      <th>Subscription  Length</th>\n",
       "      <th>Charge  Amount</th>\n",
       "      <th>Seconds of Use</th>\n",
       "      <th>Frequency of use</th>\n",
       "      <th>Frequency of SMS</th>\n",
       "      <th>Distinct Called Numbers</th>\n",
       "      <th>Age Group</th>\n",
       "      <th>Tariff Plan</th>\n",
       "      <th>Status</th>\n",
       "      <th>Age</th>\n",
       "      <th>Customer Value</th>\n",
       "      <th>FN</th>\n",
       "      <th>FP</th>\n",
       "      <th>Churn</th>\n",
       "    </tr>\n",
       "  </thead>\n",
       "  <tbody>\n",
       "    <tr>\n",
       "      <th>0</th>\n",
       "      <td>8</td>\n",
       "      <td>0</td>\n",
       "      <td>38</td>\n",
       "      <td>0</td>\n",
       "      <td>4370</td>\n",
       "      <td>71</td>\n",
       "      <td>5</td>\n",
       "      <td>17</td>\n",
       "      <td>3</td>\n",
       "      <td>1</td>\n",
       "      <td>1</td>\n",
       "      <td>30</td>\n",
       "      <td>197.640</td>\n",
       "      <td>177.8760</td>\n",
       "      <td>69.7640</td>\n",
       "      <td>0</td>\n",
       "    </tr>\n",
       "    <tr>\n",
       "      <th>1</th>\n",
       "      <td>0</td>\n",
       "      <td>0</td>\n",
       "      <td>39</td>\n",
       "      <td>0</td>\n",
       "      <td>318</td>\n",
       "      <td>5</td>\n",
       "      <td>7</td>\n",
       "      <td>4</td>\n",
       "      <td>2</td>\n",
       "      <td>1</td>\n",
       "      <td>2</td>\n",
       "      <td>25</td>\n",
       "      <td>46.035</td>\n",
       "      <td>41.4315</td>\n",
       "      <td>60.0000</td>\n",
       "      <td>0</td>\n",
       "    </tr>\n",
       "    <tr>\n",
       "      <th>2</th>\n",
       "      <td>10</td>\n",
       "      <td>0</td>\n",
       "      <td>37</td>\n",
       "      <td>0</td>\n",
       "      <td>2453</td>\n",
       "      <td>60</td>\n",
       "      <td>359</td>\n",
       "      <td>24</td>\n",
       "      <td>3</td>\n",
       "      <td>1</td>\n",
       "      <td>1</td>\n",
       "      <td>30</td>\n",
       "      <td>1536.520</td>\n",
       "      <td>1382.8680</td>\n",
       "      <td>203.6520</td>\n",
       "      <td>0</td>\n",
       "    </tr>\n",
       "    <tr>\n",
       "      <th>3</th>\n",
       "      <td>10</td>\n",
       "      <td>0</td>\n",
       "      <td>38</td>\n",
       "      <td>0</td>\n",
       "      <td>4198</td>\n",
       "      <td>66</td>\n",
       "      <td>1</td>\n",
       "      <td>35</td>\n",
       "      <td>1</td>\n",
       "      <td>1</td>\n",
       "      <td>1</td>\n",
       "      <td>15</td>\n",
       "      <td>240.020</td>\n",
       "      <td>216.0180</td>\n",
       "      <td>74.0020</td>\n",
       "      <td>0</td>\n",
       "    </tr>\n",
       "    <tr>\n",
       "      <th>4</th>\n",
       "      <td>3</td>\n",
       "      <td>0</td>\n",
       "      <td>38</td>\n",
       "      <td>0</td>\n",
       "      <td>2393</td>\n",
       "      <td>58</td>\n",
       "      <td>2</td>\n",
       "      <td>33</td>\n",
       "      <td>1</td>\n",
       "      <td>1</td>\n",
       "      <td>1</td>\n",
       "      <td>15</td>\n",
       "      <td>145.805</td>\n",
       "      <td>131.2245</td>\n",
       "      <td>64.5805</td>\n",
       "      <td>0</td>\n",
       "    </tr>\n",
       "  </tbody>\n",
       "</table>\n",
       "</div>"
      ],
      "text/plain": [
       "   Call  Failure  Complains  Subscription  Length  Charge  Amount  \\\n",
       "0              8          0                    38               0   \n",
       "1              0          0                    39               0   \n",
       "2             10          0                    37               0   \n",
       "3             10          0                    38               0   \n",
       "4              3          0                    38               0   \n",
       "\n",
       "   Seconds of Use  Frequency of use  Frequency of SMS  \\\n",
       "0            4370                71                 5   \n",
       "1             318                 5                 7   \n",
       "2            2453                60               359   \n",
       "3            4198                66                 1   \n",
       "4            2393                58                 2   \n",
       "\n",
       "   Distinct Called Numbers  Age Group  Tariff Plan  Status  Age  \\\n",
       "0                       17          3            1       1   30   \n",
       "1                        4          2            1       2   25   \n",
       "2                       24          3            1       1   30   \n",
       "3                       35          1            1       1   15   \n",
       "4                       33          1            1       1   15   \n",
       "\n",
       "   Customer Value         FN        FP  Churn  \n",
       "0         197.640   177.8760   69.7640      0  \n",
       "1          46.035    41.4315   60.0000      0  \n",
       "2        1536.520  1382.8680  203.6520      0  \n",
       "3         240.020   216.0180   74.0020      0  \n",
       "4         145.805   131.2245   64.5805      0  "
      ]
     },
     "execution_count": 4,
     "metadata": {},
     "output_type": "execute_result"
    }
   ],
   "source": [
    "df_iranian_churn.head()"
   ]
  },
  {
   "cell_type": "code",
   "execution_count": 5,
   "metadata": {},
   "outputs": [
    {
     "data": {
      "text/plain": [
       "(3150, 16)"
      ]
     },
     "execution_count": 5,
     "metadata": {},
     "output_type": "execute_result"
    }
   ],
   "source": [
    "df_iranian_churn.shape"
   ]
  },
  {
   "cell_type": "code",
   "execution_count": 228,
   "metadata": {},
   "outputs": [],
   "source": [
    "df_iranian_churn.rename(columns={'Call  Failure': 'Call Failure', 'Subscription  Length': 'Subscription Length','Charge  Amount': 'Charge Amount'}, inplace=True)"
   ]
  },
  {
   "cell_type": "code",
   "execution_count": 229,
   "metadata": {},
   "outputs": [],
   "source": [
    "del df_iranian_churn[\"FP\"]\n",
    "del df_iranian_churn[\"FN\"]"
   ]
  },
  {
   "cell_type": "markdown",
   "metadata": {},
   "source": [
    "On a supprimé les colonnes FN et FP"
   ]
  },
  {
   "cell_type": "code",
   "execution_count": 8,
   "metadata": {},
   "outputs": [
    {
     "name": "stdout",
     "output_type": "stream",
     "text": [
      "<class 'pandas.core.frame.DataFrame'>\n",
      "RangeIndex: 3150 entries, 0 to 3149\n",
      "Data columns (total 14 columns):\n",
      " #   Column                   Non-Null Count  Dtype  \n",
      "---  ------                   --------------  -----  \n",
      " 0   Call Failure             3150 non-null   int64  \n",
      " 1   Complains                3150 non-null   int64  \n",
      " 2   Subscription Length      3150 non-null   int64  \n",
      " 3   Charge Amount            3150 non-null   int64  \n",
      " 4   Seconds of Use           3150 non-null   int64  \n",
      " 5   Frequency of use         3150 non-null   int64  \n",
      " 6   Frequency of SMS         3150 non-null   int64  \n",
      " 7   Distinct Called Numbers  3150 non-null   int64  \n",
      " 8   Age Group                3150 non-null   int64  \n",
      " 9   Tariff Plan              3150 non-null   int64  \n",
      " 10  Status                   3150 non-null   int64  \n",
      " 11  Age                      3150 non-null   int64  \n",
      " 12  Customer Value           3150 non-null   float64\n",
      " 13  Churn                    3150 non-null   int64  \n",
      "dtypes: float64(1), int64(13)\n",
      "memory usage: 344.7 KB\n"
     ]
    }
   ],
   "source": [
    "df_iranian_churn.info()"
   ]
  },
  {
   "cell_type": "markdown",
   "metadata": {},
   "source": [
    "### Vérification s'il existe des valeurs NULL présents dans le dataset"
   ]
  },
  {
   "cell_type": "code",
   "execution_count": 9,
   "metadata": {},
   "outputs": [
    {
     "data": {
      "text/plain": [
       "Call Failure               0\n",
       "Complains                  0\n",
       "Subscription Length        0\n",
       "Charge Amount              0\n",
       "Seconds of Use             0\n",
       "Frequency of use           0\n",
       "Frequency of SMS           0\n",
       "Distinct Called Numbers    0\n",
       "Age Group                  0\n",
       "Tariff Plan                0\n",
       "Status                     0\n",
       "Age                        0\n",
       "Customer Value             0\n",
       "Churn                      0\n",
       "dtype: int64"
      ]
     },
     "execution_count": 9,
     "metadata": {},
     "output_type": "execute_result"
    }
   ],
   "source": [
    "nb_null_colonne = df_iranian_churn.isnull().sum()\n",
    "nb_null_colonne"
   ]
  },
  {
   "cell_type": "markdown",
   "metadata": {},
   "source": [
    "<strong>Il n'y a pas de valeurs manquantes dans le dataset donc il n'y pas besoin de gérer les valeurs null</strong>"
   ]
  },
  {
   "cell_type": "markdown",
   "metadata": {},
   "source": [
    "<h2 id=\"pattern_visualization\">Analyzing Individual Feature Patterns using Visualization</h2>"
   ]
  },
  {
   "cell_type": "markdown",
   "metadata": {},
   "source": [
    "When visualizing individual variables, it is important to first understand what type of variable you are dealing with. This will help us find the right visualization method for that variable."
   ]
  },
  {
   "cell_type": "code",
   "execution_count": 10,
   "metadata": {},
   "outputs": [
    {
     "name": "stdout",
     "output_type": "stream",
     "text": [
      "Call Failure                 int64\n",
      "Complains                    int64\n",
      "Subscription Length          int64\n",
      "Charge Amount                int64\n",
      "Seconds of Use               int64\n",
      "Frequency of use             int64\n",
      "Frequency of SMS             int64\n",
      "Distinct Called Numbers      int64\n",
      "Age Group                    int64\n",
      "Tariff Plan                  int64\n",
      "Status                       int64\n",
      "Age                          int64\n",
      "Customer Value             float64\n",
      "Churn                        int64\n",
      "dtype: object\n"
     ]
    }
   ],
   "source": [
    "print(df_iranian_churn.dtypes)"
   ]
  },
  {
   "cell_type": "markdown",
   "metadata": {},
   "source": [
    "Correlation matrix in order to see which features are correlated to the label 'Churn'"
   ]
  },
  {
   "cell_type": "code",
   "execution_count": 244,
   "metadata": {},
   "outputs": [
    {
     "data": {
      "image/png": "[encoded data removed]",
      "text/plain": [
       "<Figure size 1152x864 with 2 Axes>"
      ]
     },
     "metadata": {},
     "output_type": "display_data"
    }
   ],
   "source": [
    "df_corr = df_iranian_churn.corr()\n",
    "\n",
    "sns.set(font_scale=0.8)\n",
    "plt.figure(figsize=(16,12))\n",
    "sns.heatmap(df_corr, annot=True, fmt=\".4f\",vmin=-1, vmax=1, linewidths=.5, cmap = sns.diverging_palette(145, 300, s=60, as_cmap=True))\n",
    "\n",
    "plt.show()"
   ]
  },
  {
   "cell_type": "markdown",
   "metadata": {},
   "source": [
    "PPscore alternative of Matrix Correlation with colors"
   ]
  },
  {
   "cell_type": "code",
   "execution_count": 247,
   "metadata": {},
   "outputs": [
    {
     "data": {
      "text/plain": [
       "<matplotlib.axes._subplots.AxesSubplot at 0x7fda2f3b0430>"
      ]
     },
     "execution_count": 247,
     "metadata": {},
     "output_type": "execute_result"
    },
    {
     "data": {
      "image/png": "[encoded data removed]",
      "text/plain": [
       "<Figure size 432x288 with 2 Axes>"
      ]
     },
     "metadata": {},
     "output_type": "display_data"
    }
   ],
   "source": [
    "matrix_df = pps.matrix(df_iranian_churn).pivot(columns='x', index='y',  values='ppscore')\n",
    "\n",
    "sns.heatmap(matrix_df, annot=True)"
   ]
  },
  {
   "cell_type": "markdown",
   "metadata": {},
   "source": [
    "The PPS is an asymmetric, data-type-agnostic score that can detect linear or non-linear relationships between two columns. The score ranges from 0 (no predictive power) to 1 (perfect predictive power). It can be used as an alternative to the correlation (matrix).\n",
    "\n",
    "A score of 0 means that the column x cannot predict the column y better than a naive baseline model.\n",
    "\n",
    "A score of 1 means that the column x can perfectly predict the column y given the model.\n",
    "\n",
    "A score between 0 and 1 states the ratio of how much potential predictive power the model achieved compared to the baseline model."
   ]
  },
  {
   "cell_type": "markdown",
   "metadata": {},
   "source": [
    "Correlation with the Age, Subscription Length, Complains, Frequency of use, charge amount"
   ]
  },
  {
   "cell_type": "code",
   "execution_count": 14,
   "metadata": {},
   "outputs": [
    {
     "data": {
      "text/html": [
       "<div>\n",
       "<style scoped>\n",
       "    .dataframe tbody tr th:only-of-type {\n",
       "        vertical-align: middle;\n",
       "    }\n",
       "\n",
       "    .dataframe tbody tr th {\n",
       "        vertical-align: top;\n",
       "    }\n",
       "\n",
       "    .dataframe thead th {\n",
       "        text-align: right;\n",
       "    }\n",
       "</style>\n",
       "<table border=\"1\" class=\"dataframe\">\n",
       "  <thead>\n",
       "    <tr style=\"text-align: right;\">\n",
       "      <th></th>\n",
       "      <th>Age</th>\n",
       "      <th>Complains</th>\n",
       "      <th>Subscription Length</th>\n",
       "      <th>Charge Amount</th>\n",
       "    </tr>\n",
       "  </thead>\n",
       "  <tbody>\n",
       "    <tr>\n",
       "      <th>Age</th>\n",
       "      <td>1.000000</td>\n",
       "      <td>0.003298</td>\n",
       "      <td>-0.002430</td>\n",
       "      <td>0.278955</td>\n",
       "    </tr>\n",
       "    <tr>\n",
       "      <th>Complains</th>\n",
       "      <td>0.003298</td>\n",
       "      <td>1.000000</td>\n",
       "      <td>-0.020286</td>\n",
       "      <td>-0.033948</td>\n",
       "    </tr>\n",
       "    <tr>\n",
       "      <th>Subscription Length</th>\n",
       "      <td>-0.002430</td>\n",
       "      <td>-0.020286</td>\n",
       "      <td>1.000000</td>\n",
       "      <td>0.078789</td>\n",
       "    </tr>\n",
       "    <tr>\n",
       "      <th>Charge Amount</th>\n",
       "      <td>0.278955</td>\n",
       "      <td>-0.033948</td>\n",
       "      <td>0.078789</td>\n",
       "      <td>1.000000</td>\n",
       "    </tr>\n",
       "  </tbody>\n",
       "</table>\n",
       "</div>"
      ],
      "text/plain": [
       "                          Age  Complains  Subscription Length  Charge Amount\n",
       "Age                  1.000000   0.003298            -0.002430       0.278955\n",
       "Complains            0.003298   1.000000            -0.020286      -0.033948\n",
       "Subscription Length -0.002430  -0.020286             1.000000       0.078789\n",
       "Charge Amount        0.278955  -0.033948             0.078789       1.000000"
      ]
     },
     "execution_count": 14,
     "metadata": {},
     "output_type": "execute_result"
    }
   ],
   "source": [
    "df_iranian_churn[['Age','Complains','Subscription Length','Charge Amount']].corr()"
   ]
  },
  {
   "cell_type": "markdown",
   "metadata": {},
   "source": [
    "These are variables that describe a 'characteristic' of a data unit, and are selected from a small group of categories. The categorical variables can have the type \"object\" or \"int64\". A good way to visualize categorical variables is by using boxplots."
   ]
  },
  {
   "cell_type": "code",
   "execution_count": 15,
   "metadata": {},
   "outputs": [
    {
     "data": {
      "text/plain": [
       "<matplotlib.axes._subplots.AxesSubplot at 0x7fef7201dd30>"
      ]
     },
     "execution_count": 15,
     "metadata": {},
     "output_type": "execute_result"
    },
    {
     "data": {
      "image/png": "[encoded data removed]",
      "text/plain": [
       "<Figure size 432x288 with 1 Axes>"
      ]
     },
     "metadata": {
      "needs_background": "light"
     },
     "output_type": "display_data"
    }
   ],
   "source": [
    "sns.boxplot(x=\"Churn\", y=\"Customer Value\", data=df_iranian_churn)"
   ]
  },
  {
   "cell_type": "markdown",
   "metadata": {},
   "source": [
    "On peut déduire de ce graphe que si un client a une valeur auprès de la compagnie télécom de moins de 250 alors il y a de forte chances qu'il résilie son abonnement.\n",
    "Donc plus le \"customer_value\" est faible, plus la probabilité que le client reste est faible."
   ]
  },
  {
   "cell_type": "code",
   "execution_count": 16,
   "metadata": {},
   "outputs": [
    {
     "data": {
      "text/plain": [
       "<matplotlib.axes._subplots.AxesSubplot at 0x7fef727738b0>"
      ]
     },
     "execution_count": 16,
     "metadata": {},
     "output_type": "execute_result"
    },
    {
     "data": {
      "image/png": "[encoded data removed]",
      "text/plain": [
       "<Figure size 432x288 with 1 Axes>"
      ]
     },
     "metadata": {
      "needs_background": "light"
     },
     "output_type": "display_data"
    }
   ],
   "source": [
    "sns.boxplot(x=\"Age\", y=\"Customer Value\", data=df_iranian_churn)"
   ]
  },
  {
   "cell_type": "markdown",
   "metadata": {},
   "source": [
    "On remarque dans la tranche d'âge 15-30, on a les clients avec une valeur clientèle forte auprès de l'opérateur dû probablement à une utilisation fréquente du réseau téléphonique."
   ]
  },
  {
   "cell_type": "code",
   "execution_count": 248,
   "metadata": {},
   "outputs": [
    {
     "data": {
      "image/png": "[encoded data removed]",
      "text/plain": [
       "<Figure size 432x288 with 1 Axes>"
      ]
     },
     "metadata": {},
     "output_type": "display_data"
    }
   ],
   "source": [
    "names=list(df_iranian_churn[\"Age\"].unique())\n",
    "sizes=[df_iranian_churn[\"Age\"].value_counts()[unique_class]*100/len(df_iranian_churn[\"Age\"]) for unique_class in names]\n",
    "explode = (0, 0, 0, 0, 0)  # explode a slice if required\n",
    "\n",
    "plt.pie(sizes, explode=explode, labels=names,\n",
    "        autopct='%1.1f%%', shadow=True)\n",
    "        \n",
    "#draw a circle at the center of pie to make it look like a donut\n",
    "centre_circle = plt.Circle((0,0), 0.50, color='black', fc='white',linewidth=0.80)\n",
    "fig = plt.gcf()\n",
    "fig.gca().add_artist(centre_circle)\n",
    "\n",
    "\n",
    "# Set aspect ratio to be equal so that pie is drawn as a circle.\n",
    "plt.axis('equal')\n",
    "plt.show()"
   ]
  },
  {
   "cell_type": "markdown",
   "metadata": {},
   "source": [
    "78.1% des utilisateurs ont entre 25 et 30 ans. Et auprès de l'opérateur, ces clients semblent la cible avisée afin d'augmenter le profil de l'entreprise."
   ]
  },
  {
   "cell_type": "code",
   "execution_count": 249,
   "metadata": {},
   "outputs": [
    {
     "data": {
      "text/plain": [
       "<matplotlib.axes._subplots.AxesSubplot at 0x7fda05498bb0>"
      ]
     },
     "execution_count": 249,
     "metadata": {},
     "output_type": "execute_result"
    },
    {
     "data": {
      "image/png": "[encoded data removed]",
      "text/plain": [
       "<Figure size 432x288 with 1 Axes>"
      ]
     },
     "metadata": {},
     "output_type": "display_data"
    }
   ],
   "source": [
    "sns.countplot(x=\"Age Group\", data=df_iranian_churn, hue=\"Churn\")"
   ]
  },
  {
   "cell_type": "markdown",
   "metadata": {},
   "source": [
    "On peut constater que la majorité des résiliations se font sur les tranches moyennes d'âge."
   ]
  },
  {
   "cell_type": "markdown",
   "metadata": {},
   "source": [
    "## Descriptive Statistical Analysis"
   ]
  },
  {
   "cell_type": "code",
   "execution_count": 17,
   "metadata": {},
   "outputs": [
    {
     "data": {
      "text/html": [
       "<div>\n",
       "<style scoped>\n",
       "    .dataframe tbody tr th:only-of-type {\n",
       "        vertical-align: middle;\n",
       "    }\n",
       "\n",
       "    .dataframe tbody tr th {\n",
       "        vertical-align: top;\n",
       "    }\n",
       "\n",
       "    .dataframe thead th {\n",
       "        text-align: right;\n",
       "    }\n",
       "</style>\n",
       "<table border=\"1\" class=\"dataframe\">\n",
       "  <thead>\n",
       "    <tr style=\"text-align: right;\">\n",
       "      <th></th>\n",
       "      <th>Call Failure</th>\n",
       "      <th>Complains</th>\n",
       "      <th>Subscription Length</th>\n",
       "      <th>Charge Amount</th>\n",
       "      <th>Seconds of Use</th>\n",
       "      <th>Frequency of use</th>\n",
       "      <th>Frequency of SMS</th>\n",
       "      <th>Distinct Called Numbers</th>\n",
       "      <th>Age Group</th>\n",
       "      <th>Tariff Plan</th>\n",
       "      <th>Status</th>\n",
       "      <th>Age</th>\n",
       "      <th>Churn</th>\n",
       "    </tr>\n",
       "  </thead>\n",
       "  <tbody>\n",
       "    <tr>\n",
       "      <th>count</th>\n",
       "      <td>3150.000000</td>\n",
       "      <td>3150.000000</td>\n",
       "      <td>3150.000000</td>\n",
       "      <td>3150.000000</td>\n",
       "      <td>3150.000000</td>\n",
       "      <td>3150.000000</td>\n",
       "      <td>3150.000000</td>\n",
       "      <td>3150.000000</td>\n",
       "      <td>3150.000000</td>\n",
       "      <td>3150.000000</td>\n",
       "      <td>3150.000000</td>\n",
       "      <td>3150.000000</td>\n",
       "      <td>3150.000000</td>\n",
       "    </tr>\n",
       "    <tr>\n",
       "      <th>mean</th>\n",
       "      <td>7.627937</td>\n",
       "      <td>0.076508</td>\n",
       "      <td>32.541905</td>\n",
       "      <td>0.942857</td>\n",
       "      <td>4472.459683</td>\n",
       "      <td>69.460635</td>\n",
       "      <td>73.174921</td>\n",
       "      <td>23.509841</td>\n",
       "      <td>2.826032</td>\n",
       "      <td>1.077778</td>\n",
       "      <td>1.248254</td>\n",
       "      <td>30.998413</td>\n",
       "      <td>0.157143</td>\n",
       "    </tr>\n",
       "    <tr>\n",
       "      <th>std</th>\n",
       "      <td>7.263886</td>\n",
       "      <td>0.265851</td>\n",
       "      <td>8.573482</td>\n",
       "      <td>1.521072</td>\n",
       "      <td>4197.908687</td>\n",
       "      <td>57.413308</td>\n",
       "      <td>112.237560</td>\n",
       "      <td>17.217337</td>\n",
       "      <td>0.892555</td>\n",
       "      <td>0.267864</td>\n",
       "      <td>0.432069</td>\n",
       "      <td>8.831095</td>\n",
       "      <td>0.363993</td>\n",
       "    </tr>\n",
       "    <tr>\n",
       "      <th>min</th>\n",
       "      <td>0.000000</td>\n",
       "      <td>0.000000</td>\n",
       "      <td>3.000000</td>\n",
       "      <td>0.000000</td>\n",
       "      <td>0.000000</td>\n",
       "      <td>0.000000</td>\n",
       "      <td>0.000000</td>\n",
       "      <td>0.000000</td>\n",
       "      <td>1.000000</td>\n",
       "      <td>1.000000</td>\n",
       "      <td>1.000000</td>\n",
       "      <td>15.000000</td>\n",
       "      <td>0.000000</td>\n",
       "    </tr>\n",
       "    <tr>\n",
       "      <th>25%</th>\n",
       "      <td>1.000000</td>\n",
       "      <td>0.000000</td>\n",
       "      <td>30.000000</td>\n",
       "      <td>0.000000</td>\n",
       "      <td>1391.250000</td>\n",
       "      <td>27.000000</td>\n",
       "      <td>6.000000</td>\n",
       "      <td>10.000000</td>\n",
       "      <td>2.000000</td>\n",
       "      <td>1.000000</td>\n",
       "      <td>1.000000</td>\n",
       "      <td>25.000000</td>\n",
       "      <td>0.000000</td>\n",
       "    </tr>\n",
       "    <tr>\n",
       "      <th>50%</th>\n",
       "      <td>6.000000</td>\n",
       "      <td>0.000000</td>\n",
       "      <td>35.000000</td>\n",
       "      <td>0.000000</td>\n",
       "      <td>2990.000000</td>\n",
       "      <td>54.000000</td>\n",
       "      <td>21.000000</td>\n",
       "      <td>21.000000</td>\n",
       "      <td>3.000000</td>\n",
       "      <td>1.000000</td>\n",
       "      <td>1.000000</td>\n",
       "      <td>30.000000</td>\n",
       "      <td>0.000000</td>\n",
       "    </tr>\n",
       "    <tr>\n",
       "      <th>75%</th>\n",
       "      <td>12.000000</td>\n",
       "      <td>0.000000</td>\n",
       "      <td>38.000000</td>\n",
       "      <td>1.000000</td>\n",
       "      <td>6478.250000</td>\n",
       "      <td>95.000000</td>\n",
       "      <td>87.000000</td>\n",
       "      <td>34.000000</td>\n",
       "      <td>3.000000</td>\n",
       "      <td>1.000000</td>\n",
       "      <td>1.000000</td>\n",
       "      <td>30.000000</td>\n",
       "      <td>0.000000</td>\n",
       "    </tr>\n",
       "    <tr>\n",
       "      <th>max</th>\n",
       "      <td>36.000000</td>\n",
       "      <td>1.000000</td>\n",
       "      <td>47.000000</td>\n",
       "      <td>10.000000</td>\n",
       "      <td>17090.000000</td>\n",
       "      <td>255.000000</td>\n",
       "      <td>522.000000</td>\n",
       "      <td>97.000000</td>\n",
       "      <td>5.000000</td>\n",
       "      <td>2.000000</td>\n",
       "      <td>2.000000</td>\n",
       "      <td>55.000000</td>\n",
       "      <td>1.000000</td>\n",
       "    </tr>\n",
       "  </tbody>\n",
       "</table>\n",
       "</div>"
      ],
      "text/plain": [
       "       Call Failure    Complains  Subscription Length  Charge Amount  \\\n",
       "count   3150.000000  3150.000000          3150.000000    3150.000000   \n",
       "mean       7.627937     0.076508            32.541905       0.942857   \n",
       "std        7.263886     0.265851             8.573482       1.521072   \n",
       "min        0.000000     0.000000             3.000000       0.000000   \n",
       "25%        1.000000     0.000000            30.000000       0.000000   \n",
       "50%        6.000000     0.000000            35.000000       0.000000   \n",
       "75%       12.000000     0.000000            38.000000       1.000000   \n",
       "max       36.000000     1.000000            47.000000      10.000000   \n",
       "\n",
       "       Seconds of Use  Frequency of use  Frequency of SMS  \\\n",
       "count     3150.000000       3150.000000       3150.000000   \n",
       "mean      4472.459683         69.460635         73.174921   \n",
       "std       4197.908687         57.413308        112.237560   \n",
       "min          0.000000          0.000000          0.000000   \n",
       "25%       1391.250000         27.000000          6.000000   \n",
       "50%       2990.000000         54.000000         21.000000   \n",
       "75%       6478.250000         95.000000         87.000000   \n",
       "max      17090.000000        255.000000        522.000000   \n",
       "\n",
       "       Distinct Called Numbers    Age Group  Tariff Plan       Status  \\\n",
       "count              3150.000000  3150.000000  3150.000000  3150.000000   \n",
       "mean                 23.509841     2.826032     1.077778     1.248254   \n",
       "std                  17.217337     0.892555     0.267864     0.432069   \n",
       "min                   0.000000     1.000000     1.000000     1.000000   \n",
       "25%                  10.000000     2.000000     1.000000     1.000000   \n",
       "50%                  21.000000     3.000000     1.000000     1.000000   \n",
       "75%                  34.000000     3.000000     1.000000     1.000000   \n",
       "max                  97.000000     5.000000     2.000000     2.000000   \n",
       "\n",
       "               Age        Churn  \n",
       "count  3150.000000  3150.000000  \n",
       "mean     30.998413     0.157143  \n",
       "std       8.831095     0.363993  \n",
       "min      15.000000     0.000000  \n",
       "25%      25.000000     0.000000  \n",
       "50%      30.000000     0.000000  \n",
       "75%      30.000000     0.000000  \n",
       "max      55.000000     1.000000  "
      ]
     },
     "execution_count": 17,
     "metadata": {},
     "output_type": "execute_result"
    }
   ],
   "source": [
    "df_iranian_churn.describe(include=['int'])"
   ]
  },
  {
   "cell_type": "markdown",
   "metadata": {},
   "source": [
    "Variable de type float"
   ]
  },
  {
   "cell_type": "code",
   "execution_count": 18,
   "metadata": {},
   "outputs": [
    {
     "data": {
      "text/html": [
       "<div>\n",
       "<style scoped>\n",
       "    .dataframe tbody tr th:only-of-type {\n",
       "        vertical-align: middle;\n",
       "    }\n",
       "\n",
       "    .dataframe tbody tr th {\n",
       "        vertical-align: top;\n",
       "    }\n",
       "\n",
       "    .dataframe thead th {\n",
       "        text-align: right;\n",
       "    }\n",
       "</style>\n",
       "<table border=\"1\" class=\"dataframe\">\n",
       "  <thead>\n",
       "    <tr style=\"text-align: right;\">\n",
       "      <th></th>\n",
       "      <th>Customer Value</th>\n",
       "    </tr>\n",
       "  </thead>\n",
       "  <tbody>\n",
       "    <tr>\n",
       "      <th>count</th>\n",
       "      <td>3150.000000</td>\n",
       "    </tr>\n",
       "    <tr>\n",
       "      <th>mean</th>\n",
       "      <td>470.972916</td>\n",
       "    </tr>\n",
       "    <tr>\n",
       "      <th>std</th>\n",
       "      <td>517.015433</td>\n",
       "    </tr>\n",
       "    <tr>\n",
       "      <th>min</th>\n",
       "      <td>0.000000</td>\n",
       "    </tr>\n",
       "    <tr>\n",
       "      <th>25%</th>\n",
       "      <td>113.801250</td>\n",
       "    </tr>\n",
       "    <tr>\n",
       "      <th>50%</th>\n",
       "      <td>228.480000</td>\n",
       "    </tr>\n",
       "    <tr>\n",
       "      <th>75%</th>\n",
       "      <td>788.388750</td>\n",
       "    </tr>\n",
       "    <tr>\n",
       "      <th>max</th>\n",
       "      <td>2165.280000</td>\n",
       "    </tr>\n",
       "  </tbody>\n",
       "</table>\n",
       "</div>"
      ],
      "text/plain": [
       "       Customer Value\n",
       "count     3150.000000\n",
       "mean       470.972916\n",
       "std        517.015433\n",
       "min          0.000000\n",
       "25%        113.801250\n",
       "50%        228.480000\n",
       "75%        788.388750\n",
       "max       2165.280000"
      ]
     },
     "execution_count": 18,
     "metadata": {},
     "output_type": "execute_result"
    }
   ],
   "source": [
    "df_iranian_churn.describe(include=['float'])"
   ]
  },
  {
   "cell_type": "code",
   "execution_count": 19,
   "metadata": {},
   "outputs": [
    {
     "data": {
      "text/html": [
       "<div>\n",
       "<style scoped>\n",
       "    .dataframe tbody tr th:only-of-type {\n",
       "        vertical-align: middle;\n",
       "    }\n",
       "\n",
       "    .dataframe tbody tr th {\n",
       "        vertical-align: top;\n",
       "    }\n",
       "\n",
       "    .dataframe thead th {\n",
       "        text-align: right;\n",
       "    }\n",
       "</style>\n",
       "<table border=\"1\" class=\"dataframe\">\n",
       "  <thead>\n",
       "    <tr style=\"text-align: right;\">\n",
       "      <th></th>\n",
       "      <th>value_counts</th>\n",
       "    </tr>\n",
       "    <tr>\n",
       "      <th>Call Failure</th>\n",
       "      <th></th>\n",
       "    </tr>\n",
       "  </thead>\n",
       "  <tbody>\n",
       "    <tr>\n",
       "      <th>0</th>\n",
       "      <td>702</td>\n",
       "    </tr>\n",
       "    <tr>\n",
       "      <th>1</th>\n",
       "      <td>121</td>\n",
       "    </tr>\n",
       "    <tr>\n",
       "      <th>2</th>\n",
       "      <td>137</td>\n",
       "    </tr>\n",
       "    <tr>\n",
       "      <th>3</th>\n",
       "      <td>141</td>\n",
       "    </tr>\n",
       "    <tr>\n",
       "      <th>4</th>\n",
       "      <td>133</td>\n",
       "    </tr>\n",
       "    <tr>\n",
       "      <th>5</th>\n",
       "      <td>244</td>\n",
       "    </tr>\n",
       "    <tr>\n",
       "      <th>6</th>\n",
       "      <td>161</td>\n",
       "    </tr>\n",
       "    <tr>\n",
       "      <th>7</th>\n",
       "      <td>166</td>\n",
       "    </tr>\n",
       "    <tr>\n",
       "      <th>8</th>\n",
       "      <td>156</td>\n",
       "    </tr>\n",
       "    <tr>\n",
       "      <th>9</th>\n",
       "      <td>149</td>\n",
       "    </tr>\n",
       "  </tbody>\n",
       "</table>\n",
       "</div>"
      ],
      "text/plain": [
       "              value_counts\n",
       "Call Failure              \n",
       "0                      702\n",
       "1                      121\n",
       "2                      137\n",
       "3                      141\n",
       "4                      133\n",
       "5                      244\n",
       "6                      161\n",
       "7                      166\n",
       "8                      156\n",
       "9                      149"
      ]
     },
     "execution_count": 19,
     "metadata": {},
     "output_type": "execute_result"
    }
   ],
   "source": [
    "# Call Failure as variable\n",
    "Call_failure_counts = df_iranian_churn['Call Failure'].value_counts().to_frame()\n",
    "Call_failure_counts.rename(columns={'Call Failure': 'value_counts'}, inplace=True)\n",
    "Call_failure_counts.index.name = 'Call Failure'\n",
    "Call_failure_counts.sort_values(by='Call Failure').head(10)"
   ]
  },
  {
   "cell_type": "code",
   "execution_count": 20,
   "metadata": {},
   "outputs": [
    {
     "data": {
      "text/plain": [
       "<matplotlib.axes._subplots.AxesSubplot at 0x7fef728e6fd0>"
      ]
     },
     "execution_count": 20,
     "metadata": {},
     "output_type": "execute_result"
    },
    {
     "data": {
      "image/png": "[encoded data removed]",
      "text/plain": [
       "<Figure size 842.4x595.44 with 1 Axes>"
      ]
     },
     "metadata": {},
     "output_type": "display_data"
    }
   ],
   "source": [
    "sns.set(rc={'figure.figsize':(11.7,8.27)})\n",
    "sns.barplot(x=Call_failure_counts.index, y=Call_failure_counts['value_counts'])"
   ]
  },
  {
   "cell_type": "markdown",
   "metadata": {},
   "source": [
    "Ce graphique représente le nombre de clients en fonction du nombre d'appels manqués (Coupure d'appel). On peut en déduire que le réseau de l'opérateur semble assez bien fonctionné "
   ]
  },
  {
   "cell_type": "code",
   "execution_count": 85,
   "metadata": {},
   "outputs": [
    {
     "data": {
      "text/html": [
       "<div>\n",
       "<style scoped>\n",
       "    .dataframe tbody tr th:only-of-type {\n",
       "        vertical-align: middle;\n",
       "    }\n",
       "\n",
       "    .dataframe tbody tr th {\n",
       "        vertical-align: top;\n",
       "    }\n",
       "\n",
       "    .dataframe thead th {\n",
       "        text-align: right;\n",
       "    }\n",
       "</style>\n",
       "<table border=\"1\" class=\"dataframe\">\n",
       "  <thead>\n",
       "    <tr style=\"text-align: right;\">\n",
       "      <th></th>\n",
       "      <th>value_counts</th>\n",
       "    </tr>\n",
       "    <tr>\n",
       "      <th>Subscription Length</th>\n",
       "      <th></th>\n",
       "    </tr>\n",
       "  </thead>\n",
       "  <tbody>\n",
       "    <tr>\n",
       "      <th>3</th>\n",
       "      <td>8</td>\n",
       "    </tr>\n",
       "    <tr>\n",
       "      <th>4</th>\n",
       "      <td>4</td>\n",
       "    </tr>\n",
       "    <tr>\n",
       "      <th>5</th>\n",
       "      <td>6</td>\n",
       "    </tr>\n",
       "    <tr>\n",
       "      <th>6</th>\n",
       "      <td>8</td>\n",
       "    </tr>\n",
       "    <tr>\n",
       "      <th>7</th>\n",
       "      <td>19</td>\n",
       "    </tr>\n",
       "    <tr>\n",
       "      <th>8</th>\n",
       "      <td>12</td>\n",
       "    </tr>\n",
       "    <tr>\n",
       "      <th>9</th>\n",
       "      <td>22</td>\n",
       "    </tr>\n",
       "    <tr>\n",
       "      <th>10</th>\n",
       "      <td>16</td>\n",
       "    </tr>\n",
       "    <tr>\n",
       "      <th>11</th>\n",
       "      <td>26</td>\n",
       "    </tr>\n",
       "    <tr>\n",
       "      <th>12</th>\n",
       "      <td>19</td>\n",
       "    </tr>\n",
       "  </tbody>\n",
       "</table>\n",
       "</div>"
      ],
      "text/plain": [
       "                     value_counts\n",
       "Subscription Length              \n",
       "3                               8\n",
       "4                               4\n",
       "5                               6\n",
       "6                               8\n",
       "7                              19\n",
       "8                              12\n",
       "9                              22\n",
       "10                             16\n",
       "11                             26\n",
       "12                             19"
      ]
     },
     "execution_count": 85,
     "metadata": {},
     "output_type": "execute_result"
    }
   ],
   "source": [
    "# Call Failure as variable\n",
    "Call_failure_counts = df_iranian_churn['Subscription Length'].value_counts().to_frame()\n",
    "Call_failure_counts.rename(columns={'Subscription Length': 'value_counts'}, inplace=True)\n",
    "Call_failure_counts.index.name = 'Subscription Length'\n",
    "Call_failure_counts.sort_values(by='Subscription Length').head(10)"
   ]
  },
  {
   "cell_type": "code",
   "execution_count": 86,
   "metadata": {},
   "outputs": [
    {
     "data": {
      "text/plain": [
       "<matplotlib.axes._subplots.AxesSubplot at 0x7fe694117430>"
      ]
     },
     "execution_count": 86,
     "metadata": {},
     "output_type": "execute_result"
    },
    {
     "data": {
      "image/png": "[encoded data removed]",
      "text/plain": [
       "<Figure size 842.4x595.44 with 1 Axes>"
      ]
     },
     "metadata": {},
     "output_type": "display_data"
    }
   ],
   "source": [
    "sns.set(rc={'figure.figsize':(11.7,8.27)})\n",
    "sns.barplot(x=Call_failure_counts.index, y=Call_failure_counts['value_counts'])"
   ]
  },
  {
   "cell_type": "markdown",
   "metadata": {},
   "source": [
    "Le nombre de clients en fonction de la durée d'abonnement depuis sa souscription.\n",
    "On peut apercevoir que il y a peu de nouveaux abonnés qui ont souscrit récemment.\n",
    "En moyenne la durée de l'abonnement des clients en majorité à partir de la souscription d'un abonnement téléphonique est entre 2 ans et 3 ans et demi. Il y a peu de clients qui ont un abonnement de plus de 4 ans. "
   ]
  },
  {
   "cell_type": "markdown",
   "metadata": {},
   "source": [
    "Ratio of Churn in the datasets"
   ]
  },
  {
   "cell_type": "code",
   "execution_count": 87,
   "metadata": {},
   "outputs": [
    {
     "name": "stdout",
     "output_type": "stream",
     "text": [
      "Ratio of Churn cases: Ratio    0.157143\n",
      "Name: 1, dtype: float64\n",
      "Ratio of non-Churn cases: Ratio    0.842857\n",
      "Name: 0, dtype: float64\n"
     ]
    }
   ],
   "source": [
    "Churn_counts = df_iranian_churn['Churn'].value_counts().to_frame()\n",
    "Churn_counts.rename(columns={'Churn': 'Ratio'}, inplace=True)\n",
    "Churn_counts.index.name = 'Churn'\n",
    "# Print the ratio of fraud cases\n",
    "ratio_cases = Churn_counts/len(df_iranian_churn.index)\n",
    "print(f'Ratio of Churn cases: {ratio_cases.loc[1]}\\nRatio of non-Churn cases: {ratio_cases.loc[0]}')"
   ]
  },
  {
   "cell_type": "markdown",
   "metadata": {},
   "source": [
    "Pourcentage des caractéristiques des personnes si elles ont résiliés ou non"
   ]
  },
  {
   "cell_type": "code",
   "execution_count": 88,
   "metadata": {},
   "outputs": [
    {
     "data": {
      "text/plain": [
       "Text(0.5, 1.0, 'Ratio of Churn Cases')"
      ]
     },
     "execution_count": 88,
     "metadata": {},
     "output_type": "execute_result"
    },
    {
     "data": {
      "image/png": "[encoded data removed]",
      "text/plain": [
       "<Figure size 842.4x595.44 with 1 Axes>"
      ]
     },
     "metadata": {},
     "output_type": "display_data"
    }
   ],
   "source": [
    "churn_graph = sns.barplot(x=Churn_counts.index, y=Churn_counts['Ratio'])\n",
    "churn_graph.set_title(\"Ratio of Churn Cases\")"
   ]
  },
  {
   "cell_type": "markdown",
   "metadata": {},
   "source": [
    "On peut s'apercevoir que l'opérateur a un bon ratio de clients Résiliés / non-Résiliés. "
   ]
  },
  {
   "cell_type": "code",
   "execution_count": 89,
   "metadata": {},
   "outputs": [
    {
     "data": {
      "text/html": [
       "<div>\n",
       "<style scoped>\n",
       "    .dataframe tbody tr th:only-of-type {\n",
       "        vertical-align: middle;\n",
       "    }\n",
       "\n",
       "    .dataframe tbody tr th {\n",
       "        vertical-align: top;\n",
       "    }\n",
       "\n",
       "    .dataframe thead th {\n",
       "        text-align: right;\n",
       "    }\n",
       "</style>\n",
       "<table border=\"1\" class=\"dataframe\">\n",
       "  <thead>\n",
       "    <tr style=\"text-align: right;\">\n",
       "      <th></th>\n",
       "      <th>Customer Value</th>\n",
       "      <th>Status</th>\n",
       "      <th>Frequency of SMS</th>\n",
       "      <th>Age</th>\n",
       "      <th>Frequency of use</th>\n",
       "      <th>Age Group</th>\n",
       "      <th>Complains</th>\n",
       "      <th>Tariff Plan</th>\n",
       "      <th>Call Failure</th>\n",
       "      <th>Subscription Length</th>\n",
       "      <th>Charge Amount</th>\n",
       "      <th>Seconds of Use</th>\n",
       "      <th>Distinct Called Numbers</th>\n",
       "    </tr>\n",
       "    <tr>\n",
       "      <th>Churn</th>\n",
       "      <th></th>\n",
       "      <th></th>\n",
       "      <th></th>\n",
       "      <th></th>\n",
       "      <th></th>\n",
       "      <th></th>\n",
       "      <th></th>\n",
       "      <th></th>\n",
       "      <th></th>\n",
       "      <th></th>\n",
       "      <th></th>\n",
       "      <th></th>\n",
       "      <th></th>\n",
       "    </tr>\n",
       "  </thead>\n",
       "  <tbody>\n",
       "    <tr>\n",
       "      <th>0</th>\n",
       "      <td>535.511501</td>\n",
       "      <td>1.155179</td>\n",
       "      <td>83.871563</td>\n",
       "      <td>31.065913</td>\n",
       "      <td>76.979284</td>\n",
       "      <td>2.831638</td>\n",
       "      <td>0.015443</td>\n",
       "      <td>1.090019</td>\n",
       "      <td>7.656121</td>\n",
       "      <td>32.662524</td>\n",
       "      <td>1.075706</td>\n",
       "      <td>5014.224105</td>\n",
       "      <td>25.582674</td>\n",
       "    </tr>\n",
       "    <tr>\n",
       "      <th>1</th>\n",
       "      <td>124.811414</td>\n",
       "      <td>1.747475</td>\n",
       "      <td>15.802020</td>\n",
       "      <td>30.636364</td>\n",
       "      <td>29.133333</td>\n",
       "      <td>2.795960</td>\n",
       "      <td>0.404040</td>\n",
       "      <td>1.012121</td>\n",
       "      <td>7.476768</td>\n",
       "      <td>31.894949</td>\n",
       "      <td>0.230303</td>\n",
       "      <td>1566.632323</td>\n",
       "      <td>12.391919</td>\n",
       "    </tr>\n",
       "  </tbody>\n",
       "</table>\n",
       "</div>"
      ],
      "text/plain": [
       "       Customer Value    Status  Frequency of SMS        Age  \\\n",
       "Churn                                                          \n",
       "0          535.511501  1.155179         83.871563  31.065913   \n",
       "1          124.811414  1.747475         15.802020  30.636364   \n",
       "\n",
       "       Frequency of use  Age Group  Complains  Tariff Plan  Call Failure  \\\n",
       "Churn                                                                      \n",
       "0             76.979284   2.831638   0.015443     1.090019      7.656121   \n",
       "1             29.133333   2.795960   0.404040     1.012121      7.476768   \n",
       "\n",
       "       Subscription Length  Charge Amount  Seconds of Use  \\\n",
       "Churn                                                       \n",
       "0                32.662524       1.075706     5014.224105   \n",
       "1                31.894949       0.230303     1566.632323   \n",
       "\n",
       "       Distinct Called Numbers  \n",
       "Churn                           \n",
       "0                    25.582674  \n",
       "1                    12.391919  "
      ]
     },
     "execution_count": 89,
     "metadata": {},
     "output_type": "execute_result"
    }
   ],
   "source": [
    "df_group_one = df_iranian_churn[['Customer Value','Status', 'Frequency of SMS', 'Age', 'Frequency of use', 'Age Group', 'Complains', 'Tariff Plan', 'Call Failure','Churn', 'Subscription Length', 'Charge Amount', 'Seconds of Use', 'Distinct Called Numbers']].groupby(['Churn']).mean()\n",
    "df_group_one"
   ]
  },
  {
   "cell_type": "code",
   "execution_count": 90,
   "metadata": {},
   "outputs": [
    {
     "data": {
      "text/html": [
       "<div>\n",
       "<style scoped>\n",
       "    .dataframe tbody tr th:only-of-type {\n",
       "        vertical-align: middle;\n",
       "    }\n",
       "\n",
       "    .dataframe tbody tr th {\n",
       "        vertical-align: top;\n",
       "    }\n",
       "\n",
       "    .dataframe thead th {\n",
       "        text-align: right;\n",
       "    }\n",
       "</style>\n",
       "<table border=\"1\" class=\"dataframe\">\n",
       "  <thead>\n",
       "    <tr style=\"text-align: right;\">\n",
       "      <th></th>\n",
       "      <th>Customer Value</th>\n",
       "      <th>Status</th>\n",
       "      <th>Frequency of SMS</th>\n",
       "      <th>Age</th>\n",
       "      <th>Frequency of use</th>\n",
       "      <th>Age Group</th>\n",
       "      <th>Complains</th>\n",
       "      <th>Tariff Plan</th>\n",
       "      <th>Call Failure</th>\n",
       "      <th>Churn</th>\n",
       "      <th>Subscription Length</th>\n",
       "      <th>Charge Amount</th>\n",
       "      <th>Seconds of Use</th>\n",
       "      <th>Distinct Called Numbers</th>\n",
       "    </tr>\n",
       "  </thead>\n",
       "  <tbody>\n",
       "    <tr>\n",
       "      <th>0</th>\n",
       "      <td>197.640</td>\n",
       "      <td>1</td>\n",
       "      <td>5</td>\n",
       "      <td>30</td>\n",
       "      <td>71</td>\n",
       "      <td>3</td>\n",
       "      <td>0</td>\n",
       "      <td>1</td>\n",
       "      <td>8</td>\n",
       "      <td>0</td>\n",
       "      <td>38</td>\n",
       "      <td>0</td>\n",
       "      <td>4370</td>\n",
       "      <td>17</td>\n",
       "    </tr>\n",
       "    <tr>\n",
       "      <th>1</th>\n",
       "      <td>46.035</td>\n",
       "      <td>2</td>\n",
       "      <td>7</td>\n",
       "      <td>25</td>\n",
       "      <td>5</td>\n",
       "      <td>2</td>\n",
       "      <td>0</td>\n",
       "      <td>1</td>\n",
       "      <td>0</td>\n",
       "      <td>0</td>\n",
       "      <td>39</td>\n",
       "      <td>0</td>\n",
       "      <td>318</td>\n",
       "      <td>4</td>\n",
       "    </tr>\n",
       "    <tr>\n",
       "      <th>2</th>\n",
       "      <td>1536.520</td>\n",
       "      <td>1</td>\n",
       "      <td>359</td>\n",
       "      <td>30</td>\n",
       "      <td>60</td>\n",
       "      <td>3</td>\n",
       "      <td>0</td>\n",
       "      <td>1</td>\n",
       "      <td>10</td>\n",
       "      <td>0</td>\n",
       "      <td>37</td>\n",
       "      <td>0</td>\n",
       "      <td>2453</td>\n",
       "      <td>24</td>\n",
       "    </tr>\n",
       "    <tr>\n",
       "      <th>3</th>\n",
       "      <td>240.020</td>\n",
       "      <td>1</td>\n",
       "      <td>1</td>\n",
       "      <td>15</td>\n",
       "      <td>66</td>\n",
       "      <td>1</td>\n",
       "      <td>0</td>\n",
       "      <td>1</td>\n",
       "      <td>10</td>\n",
       "      <td>0</td>\n",
       "      <td>38</td>\n",
       "      <td>0</td>\n",
       "      <td>4198</td>\n",
       "      <td>35</td>\n",
       "    </tr>\n",
       "    <tr>\n",
       "      <th>4</th>\n",
       "      <td>145.805</td>\n",
       "      <td>1</td>\n",
       "      <td>2</td>\n",
       "      <td>15</td>\n",
       "      <td>58</td>\n",
       "      <td>1</td>\n",
       "      <td>0</td>\n",
       "      <td>1</td>\n",
       "      <td>3</td>\n",
       "      <td>0</td>\n",
       "      <td>38</td>\n",
       "      <td>0</td>\n",
       "      <td>2393</td>\n",
       "      <td>33</td>\n",
       "    </tr>\n",
       "    <tr>\n",
       "      <th>...</th>\n",
       "      <td>...</td>\n",
       "      <td>...</td>\n",
       "      <td>...</td>\n",
       "      <td>...</td>\n",
       "      <td>...</td>\n",
       "      <td>...</td>\n",
       "      <td>...</td>\n",
       "      <td>...</td>\n",
       "      <td>...</td>\n",
       "      <td>...</td>\n",
       "      <td>...</td>\n",
       "      <td>...</td>\n",
       "      <td>...</td>\n",
       "      <td>...</td>\n",
       "    </tr>\n",
       "    <tr>\n",
       "      <th>3145</th>\n",
       "      <td>721.980</td>\n",
       "      <td>1</td>\n",
       "      <td>92</td>\n",
       "      <td>25</td>\n",
       "      <td>147</td>\n",
       "      <td>2</td>\n",
       "      <td>0</td>\n",
       "      <td>2</td>\n",
       "      <td>21</td>\n",
       "      <td>0</td>\n",
       "      <td>19</td>\n",
       "      <td>2</td>\n",
       "      <td>6697</td>\n",
       "      <td>44</td>\n",
       "    </tr>\n",
       "    <tr>\n",
       "      <th>3146</th>\n",
       "      <td>261.210</td>\n",
       "      <td>1</td>\n",
       "      <td>80</td>\n",
       "      <td>55</td>\n",
       "      <td>177</td>\n",
       "      <td>5</td>\n",
       "      <td>0</td>\n",
       "      <td>1</td>\n",
       "      <td>17</td>\n",
       "      <td>0</td>\n",
       "      <td>17</td>\n",
       "      <td>1</td>\n",
       "      <td>9237</td>\n",
       "      <td>42</td>\n",
       "    </tr>\n",
       "    <tr>\n",
       "      <th>3147</th>\n",
       "      <td>280.320</td>\n",
       "      <td>1</td>\n",
       "      <td>38</td>\n",
       "      <td>30</td>\n",
       "      <td>51</td>\n",
       "      <td>3</td>\n",
       "      <td>0</td>\n",
       "      <td>1</td>\n",
       "      <td>13</td>\n",
       "      <td>0</td>\n",
       "      <td>18</td>\n",
       "      <td>4</td>\n",
       "      <td>3157</td>\n",
       "      <td>21</td>\n",
       "    </tr>\n",
       "    <tr>\n",
       "      <th>3148</th>\n",
       "      <td>1077.640</td>\n",
       "      <td>1</td>\n",
       "      <td>222</td>\n",
       "      <td>30</td>\n",
       "      <td>46</td>\n",
       "      <td>3</td>\n",
       "      <td>0</td>\n",
       "      <td>1</td>\n",
       "      <td>7</td>\n",
       "      <td>0</td>\n",
       "      <td>11</td>\n",
       "      <td>2</td>\n",
       "      <td>4695</td>\n",
       "      <td>12</td>\n",
       "    </tr>\n",
       "    <tr>\n",
       "      <th>3149</th>\n",
       "      <td>100.680</td>\n",
       "      <td>1</td>\n",
       "      <td>7</td>\n",
       "      <td>30</td>\n",
       "      <td>25</td>\n",
       "      <td>3</td>\n",
       "      <td>1</td>\n",
       "      <td>1</td>\n",
       "      <td>8</td>\n",
       "      <td>1</td>\n",
       "      <td>11</td>\n",
       "      <td>2</td>\n",
       "      <td>1792</td>\n",
       "      <td>9</td>\n",
       "    </tr>\n",
       "  </tbody>\n",
       "</table>\n",
       "<p>3150 rows × 14 columns</p>\n",
       "</div>"
      ],
      "text/plain": [
       "      Customer Value  Status  Frequency of SMS  Age  Frequency of use  \\\n",
       "0            197.640       1                 5   30                71   \n",
       "1             46.035       2                 7   25                 5   \n",
       "2           1536.520       1               359   30                60   \n",
       "3            240.020       1                 1   15                66   \n",
       "4            145.805       1                 2   15                58   \n",
       "...              ...     ...               ...  ...               ...   \n",
       "3145         721.980       1                92   25               147   \n",
       "3146         261.210       1                80   55               177   \n",
       "3147         280.320       1                38   30                51   \n",
       "3148        1077.640       1               222   30                46   \n",
       "3149         100.680       1                 7   30                25   \n",
       "\n",
       "      Age Group  Complains  Tariff Plan  Call Failure  Churn  \\\n",
       "0             3          0            1             8      0   \n",
       "1             2          0            1             0      0   \n",
       "2             3          0            1            10      0   \n",
       "3             1          0            1            10      0   \n",
       "4             1          0            1             3      0   \n",
       "...         ...        ...          ...           ...    ...   \n",
       "3145          2          0            2            21      0   \n",
       "3146          5          0            1            17      0   \n",
       "3147          3          0            1            13      0   \n",
       "3148          3          0            1             7      0   \n",
       "3149          3          1            1             8      1   \n",
       "\n",
       "      Subscription Length  Charge Amount  Seconds of Use  \\\n",
       "0                      38              0            4370   \n",
       "1                      39              0             318   \n",
       "2                      37              0            2453   \n",
       "3                      38              0            4198   \n",
       "4                      38              0            2393   \n",
       "...                   ...            ...             ...   \n",
       "3145                   19              2            6697   \n",
       "3146                   17              1            9237   \n",
       "3147                   18              4            3157   \n",
       "3148                   11              2            4695   \n",
       "3149                   11              2            1792   \n",
       "\n",
       "      Distinct Called Numbers  \n",
       "0                          17  \n",
       "1                           4  \n",
       "2                          24  \n",
       "3                          35  \n",
       "4                          33  \n",
       "...                       ...  \n",
       "3145                       44  \n",
       "3146                       42  \n",
       "3147                       21  \n",
       "3148                       12  \n",
       "3149                        9  \n",
       "\n",
       "[3150 rows x 14 columns]"
      ]
     },
     "execution_count": 90,
     "metadata": {},
     "output_type": "execute_result"
    }
   ],
   "source": [
    "df_group_two = df_iranian_churn[['Customer Value','Status', 'Frequency of SMS', 'Age', 'Frequency of use', 'Age Group', 'Complains', 'Tariff Plan', 'Call Failure','Churn', 'Subscription Length', 'Charge Amount', 'Seconds of Use', 'Distinct Called Numbers']]\n",
    "df_group_two"
   ]
  },
  {
   "cell_type": "code",
   "execution_count": 91,
   "metadata": {},
   "outputs": [
    {
     "data": {
      "text/plain": [
       "<matplotlib.axes._subplots.AxesSubplot at 0x7fe6935127f0>"
      ]
     },
     "execution_count": 91,
     "metadata": {},
     "output_type": "execute_result"
    },
    {
     "data": {
      "image/png": "[encoded data removed]",
      "text/plain": [
       "<Figure size 842.4x595.44 with 1 Axes>"
      ]
     },
     "metadata": {},
     "output_type": "display_data"
    }
   ],
   "source": [
    "sns.barplot(data=df_group_two, x='Status', y='Customer Value', hue=\"Churn\")"
   ]
  },
  {
   "cell_type": "markdown",
   "metadata": {},
   "source": [
    "Le statut représente l'état d'un client. Si il est actif alors le statut est un 1 et 2 dans le cas contraire. On peut remarquer que un client non actif incite fortement sur une résiliation de son abonnement."
   ]
  },
  {
   "cell_type": "code",
   "execution_count": 253,
   "metadata": {},
   "outputs": [
    {
     "data": {
      "text/plain": [
       "<matplotlib.axes._subplots.AxesSubplot at 0x7fda0717d760>"
      ]
     },
     "execution_count": 253,
     "metadata": {},
     "output_type": "execute_result"
    },
    {
     "data": {
      "image/png": "[encoded data removed]",
      "text/plain": [
       "<Figure size 432x288 with 1 Axes>"
      ]
     },
     "metadata": {},
     "output_type": "display_data"
    }
   ],
   "source": [
    "grouped = df_iranian_churn.groupby([\"Churn\"])[\"Frequency of use\"]\n",
    "grouped.agg([\"mean\"]).plot.bar(title=\"Frequence d'utilisation en fonction de la fidelité\")"
   ]
  },
  {
   "cell_type": "markdown",
   "metadata": {},
   "source": [
    "On peut remarquer que la fréquence d'utilisation du réseau téléphonique est plus grande chez les personnes qui ne résilient pas. Cela pourrait être un paramètre qui joue sur la résiliation d'un abonnement."
   ]
  },
  {
   "cell_type": "code",
   "execution_count": 243,
   "metadata": {},
   "outputs": [
    {
     "data": {
      "text/plain": [
       "<matplotlib.axes._subplots.AxesSubplot at 0x7fda05ad00d0>"
      ]
     },
     "execution_count": 243,
     "metadata": {},
     "output_type": "execute_result"
    },
    {
     "data": {
      "image/png": "[encoded data removed]",
      "text/plain": [
       "<Figure size 432x288 with 1 Axes>"
      ]
     },
     "metadata": {
      "needs_background": "light"
     },
     "output_type": "display_data"
    }
   ],
   "source": [
    "grouped = df_iranian_churn.groupby([\"Churn\"])[[\"Status\", \"Complains\"]]\n",
    "grouped.agg([\"mean\"]).plot.bar(title=\"Durée d'abonnement et age en fonction de la fidelité\")"
   ]
  },
  {
   "cell_type": "markdown",
   "metadata": {},
   "source": [
    "On remarque que en moyenne, les personnes ayant résiliés sont en moyenne moins actifs que les non-résiliés et se plaignent plus souvent que auprès de la compagnie téléphonique"
   ]
  },
  {
   "cell_type": "code",
   "execution_count": 94,
   "metadata": {},
   "outputs": [
    {
     "data": {
      "text/plain": [
       "<matplotlib.axes._subplots.AxesSubplot at 0x7fe6947cb1f0>"
      ]
     },
     "execution_count": 94,
     "metadata": {},
     "output_type": "execute_result"
    },
    {
     "data": {
      "image/png": "[encoded data removed]",
      "text/plain": [
       "<Figure size 842.4x595.44 with 1 Axes>"
      ]
     },
     "metadata": {},
     "output_type": "display_data"
    }
   ],
   "source": [
    "grouped = df_iranian_churn.groupby([\"Churn\"])[[\"Subscription Length\"]]\n",
    "grouped.agg([\"min\", \"mean\", \"max\"]).plot.bar(title=\"Durée d'abonnement en fonction de la fidelité\")"
   ]
  },
  {
   "cell_type": "markdown",
   "metadata": {},
   "source": [
    "Pas de différence entre les abonnées et résiliés en age et en durée d'abonnement"
   ]
  },
  {
   "cell_type": "code",
   "execution_count": 256,
   "metadata": {},
   "outputs": [
    {
     "data": {
      "text/plain": [
       "<matplotlib.axes._subplots.AxesSubplot at 0x7fda0882c340>"
      ]
     },
     "execution_count": 256,
     "metadata": {},
     "output_type": "execute_result"
    },
    {
     "data": {
      "image/png": "[encoded data removed]",
      "text/plain": [
       "<Figure size 432x288 with 1 Axes>"
      ]
     },
     "metadata": {},
     "output_type": "display_data"
    }
   ],
   "source": [
    "nombre_quantite_charges = df_iranian_churn[\"Charge Amount\"].value_counts()\n",
    "nombre_quantite_charges.plot.bar(title=\"Le nombre de clients en fonction du coût de l'abonnement\")"
   ]
  },
  {
   "cell_type": "markdown",
   "metadata": {},
   "source": [
    "On peut constater que les clients prennent les forfaits les moins chers ce qui est logique."
   ]
  },
  {
   "cell_type": "code",
   "execution_count": 96,
   "metadata": {},
   "outputs": [
    {
     "data": {
      "text/html": [
       "<div>\n",
       "<style scoped>\n",
       "    .dataframe tbody tr th:only-of-type {\n",
       "        vertical-align: middle;\n",
       "    }\n",
       "\n",
       "    .dataframe tbody tr th {\n",
       "        vertical-align: top;\n",
       "    }\n",
       "\n",
       "    .dataframe thead th {\n",
       "        text-align: right;\n",
       "    }\n",
       "</style>\n",
       "<table border=\"1\" class=\"dataframe\">\n",
       "  <thead>\n",
       "    <tr style=\"text-align: right;\">\n",
       "      <th></th>\n",
       "      <th>Nombre total</th>\n",
       "    </tr>\n",
       "  </thead>\n",
       "  <tbody>\n",
       "    <tr>\n",
       "      <th>0</th>\n",
       "      <td>0.923492</td>\n",
       "    </tr>\n",
       "    <tr>\n",
       "      <th>1</th>\n",
       "      <td>0.076508</td>\n",
       "    </tr>\n",
       "  </tbody>\n",
       "</table>\n",
       "</div>"
      ],
      "text/plain": [
       "   Nombre total\n",
       "0      0.923492\n",
       "1      0.076508"
      ]
     },
     "execution_count": 96,
     "metadata": {},
     "output_type": "execute_result"
    }
   ],
   "source": [
    "nombre_quantite_total = len(df_iranian_churn[\"Complains\"])\n",
    "list_complains = [y/nombre_quantite_total for y in df_iranian_churn[\"Complains\"].value_counts()]\n",
    "X = pd.DataFrame({\"Nombre total\": list_complains})\n",
    "X"
   ]
  },
  {
   "cell_type": "code",
   "execution_count": 97,
   "metadata": {},
   "outputs": [
    {
     "data": {
      "text/plain": [
       "array([<matplotlib.axes._subplots.AxesSubplot object at 0x7fe695e72e50>],\n",
       "      dtype=object)"
      ]
     },
     "execution_count": 97,
     "metadata": {},
     "output_type": "execute_result"
    },
    {
     "data": {
      "image/png": "[encoded data removed]",
      "text/plain": [
       "<Figure size 1080x720 with 1 Axes>"
      ]
     },
     "metadata": {},
     "output_type": "display_data"
    }
   ],
   "source": [
    "nombre_quantite_charges = df_iranian_churn[\"Complains\"].value_counts()\n",
    "nombre_quantite_charges.plot(kind='pie', subplots=True, shadow = True,startangle=90,\n",
    "figsize=(15,10), autopct='%1.1f%%')"
   ]
  },
  {
   "cell_type": "markdown",
   "metadata": {},
   "source": [
    "On peut s'apercevoir que le nombre de personnes qui se sont plaints est en minorité face aux clients satisfaits"
   ]
  },
  {
   "cell_type": "code",
   "execution_count": 258,
   "metadata": {},
   "outputs": [
    {
     "data": {
      "image/png": "[encoded data removed]",
      "text/plain": [
       "<Figure size 432x288 with 1 Axes>"
      ]
     },
     "metadata": {},
     "output_type": "display_data"
    }
   ],
   "source": [
    "ax = df_iranian_churn[df_iranian_churn[\"Churn\"] == 1].plot.scatter(x=\"Seconds of Use\", y=\"Customer Value\", color=\"red\")\n"
   ]
  },
  {
   "cell_type": "markdown",
   "metadata": {},
   "source": [
    "On peut s'apercevoir que globalement  les personnes ayant résiliés et ayant utilisés le plus longtemps le réseau ont un score plus élévé auprès de l'opérateur."
   ]
  },
  {
   "cell_type": "markdown",
   "metadata": {},
   "source": [
    "## Partie 2 : Modélisation (Machine Learning Algorithms)"
   ]
  },
  {
   "cell_type": "markdown",
   "metadata": {},
   "source": [
    "### Fonctions Machine Learning"
   ]
  },
  {
   "cell_type": "code",
   "execution_count": 53,
   "metadata": {},
   "outputs": [
    {
     "name": "stdout",
     "output_type": "stream",
     "text": [
      "18:35:04\n"
     ]
    },
    {
     "data": {
      "text/plain": [
       "1610213704.0798872"
      ]
     },
     "execution_count": 53,
     "metadata": {},
     "output_type": "execute_result"
    }
   ],
   "source": [
    "def print_time():\n",
    "    \"\"\"\n",
    "    Affiche et retourne l'heure de la machine.\n",
    "    Utilisé pour mesurer le temps d'execution du classifieur.\n",
    "    \"\"\"\n",
    "    import time\n",
    "    import datetime\n",
    "    t = datetime.datetime.now().time()\n",
    "    print(t.isoformat()[:8])\n",
    "    return time.time()\n",
    "print_time()"
   ]
  },
  {
   "cell_type": "code",
   "execution_count": 54,
   "metadata": {},
   "outputs": [],
   "source": [
    "def draw_roc_curve(fitted_c, x_test, y_test, title):\n",
    "    \"\"\"\n",
    "    Créé et affiche la courbe ROC des données de test X et Y selon un classifieur (SVM, KNN, RF).\n",
    "    Permet de représenter l'évolution de la vitesse d'apprentissage du classifieur.\n",
    "    Taux de vrais-positifs en fonction du taux de faux-négatif.\n",
    "    Plus l'aire sous la courbe est grande, plus le classifieur est idéal.\n",
    "    \"\"\"\n",
    "    from sklearn.metrics import roc_curve, auc\n",
    "    import matplotlib.pyplot as plt\n",
    "    c                                        = fitted_c\n",
    "    probas                                   = c.predict_proba(x_test)\n",
    "    false_positive_rate, recall_, thresholds = roc_curve(y_test, probas[:,1])\n",
    "    roc_auc                                  = auc(false_positive_rate, recall_)\n",
    "    \n",
    "    plt.title  ('ROC %.2f %s'%(roc_auc, title))\n",
    "    plt.legend (loc=\"lower right\")\n",
    "    plt.plot   ([0,1],[0,1], \"r--\")\n",
    "    plt.plot   (false_positive_rate, recall_, 'b', label='AUC = %.2f'%roc_auc)\n",
    "    plt.xlim   ([0.0,1.1])\n",
    "    plt.ylim   ([0.0,1.1])\n",
    "    plt.ylabel ('Recall')\n",
    "    plt.xlabel ('Fall-out')\n",
    "    plt.show()"
   ]
  },
  {
   "cell_type": "code",
   "execution_count": 223,
   "metadata": {},
   "outputs": [],
   "source": [
    "def draw_confusion_matrix(y_test, predictions, title):\n",
    "    \"\"\"\n",
    "    Créé et affiche la matrice de confusion des données de Y_test et de celles sur lesquelles on a fait la prédiction.\n",
    "    Permet d'évaluer la qualité de la classification souhaitée.\n",
    "    Plus les valeurs diagonales sont élevées, plus le classifieur prédit correctement.\n",
    "    \"\"\"\n",
    "    from sklearn.metrics import confusion_matrix,accuracy_score\n",
    "    import matplotlib.pyplot as plt\n",
    "    cm    = confusion_matrix(y_test, predictions)\n",
    "    accur = accuracy_score  (y_test, predictions)\n",
    "    \n",
    "    plt.matshow  (cm)\n",
    "    plt.ylabel   ('True Label')\n",
    "    plt.xlabel   ('Predicted Label')\n",
    "    plt.suptitle ('Confusion matrix (Accuracy of %.2f) for [%s]'%(accur,title))\n",
    "    plt.colorbar ()\n",
    "    plt.show     ()"
   ]
  },
  {
   "cell_type": "markdown",
   "metadata": {},
   "source": [
    "### Récupération des données + préprocessing"
   ]
  },
  {
   "cell_type": "code",
   "execution_count": 261,
   "metadata": {},
   "outputs": [],
   "source": [
    "df_iranian_churn = pd.read_csv('./Customer Churn.csv', sep=',')\n",
    "df_iranian_churn.rename(columns={'Call  Failure': 'Call Failure', 'Subscription  Length': 'Subscription Length','Charge  Amount': 'Charge Amount'}, inplace=True)\n",
    "del df_iranian_churn[\"FP\"]\n",
    "del df_iranian_churn[\"FN\"]"
   ]
  },
  {
   "cell_type": "code",
   "execution_count": 262,
   "metadata": {},
   "outputs": [
    {
     "data": {
      "text/html": [
       "<div>\n",
       "<style scoped>\n",
       "    .dataframe tbody tr th:only-of-type {\n",
       "        vertical-align: middle;\n",
       "    }\n",
       "\n",
       "    .dataframe tbody tr th {\n",
       "        vertical-align: top;\n",
       "    }\n",
       "\n",
       "    .dataframe thead th {\n",
       "        text-align: right;\n",
       "    }\n",
       "</style>\n",
       "<table border=\"1\" class=\"dataframe\">\n",
       "  <thead>\n",
       "    <tr style=\"text-align: right;\">\n",
       "      <th></th>\n",
       "      <th>Call Failure</th>\n",
       "      <th>Complains</th>\n",
       "      <th>Subscription Length</th>\n",
       "      <th>Charge Amount</th>\n",
       "      <th>Seconds of Use</th>\n",
       "      <th>Frequency of use</th>\n",
       "      <th>Frequency of SMS</th>\n",
       "      <th>Distinct Called Numbers</th>\n",
       "      <th>Age Group</th>\n",
       "      <th>Tariff Plan</th>\n",
       "      <th>Status</th>\n",
       "      <th>Age</th>\n",
       "      <th>Customer Value</th>\n",
       "    </tr>\n",
       "  </thead>\n",
       "  <tbody>\n",
       "    <tr>\n",
       "      <th>0</th>\n",
       "      <td>8</td>\n",
       "      <td>0</td>\n",
       "      <td>38</td>\n",
       "      <td>0</td>\n",
       "      <td>4370</td>\n",
       "      <td>71</td>\n",
       "      <td>5</td>\n",
       "      <td>17</td>\n",
       "      <td>3</td>\n",
       "      <td>1</td>\n",
       "      <td>1</td>\n",
       "      <td>30</td>\n",
       "      <td>197.640</td>\n",
       "    </tr>\n",
       "    <tr>\n",
       "      <th>1</th>\n",
       "      <td>0</td>\n",
       "      <td>0</td>\n",
       "      <td>39</td>\n",
       "      <td>0</td>\n",
       "      <td>318</td>\n",
       "      <td>5</td>\n",
       "      <td>7</td>\n",
       "      <td>4</td>\n",
       "      <td>2</td>\n",
       "      <td>1</td>\n",
       "      <td>2</td>\n",
       "      <td>25</td>\n",
       "      <td>46.035</td>\n",
       "    </tr>\n",
       "    <tr>\n",
       "      <th>2</th>\n",
       "      <td>10</td>\n",
       "      <td>0</td>\n",
       "      <td>37</td>\n",
       "      <td>0</td>\n",
       "      <td>2453</td>\n",
       "      <td>60</td>\n",
       "      <td>359</td>\n",
       "      <td>24</td>\n",
       "      <td>3</td>\n",
       "      <td>1</td>\n",
       "      <td>1</td>\n",
       "      <td>30</td>\n",
       "      <td>1536.520</td>\n",
       "    </tr>\n",
       "    <tr>\n",
       "      <th>3</th>\n",
       "      <td>10</td>\n",
       "      <td>0</td>\n",
       "      <td>38</td>\n",
       "      <td>0</td>\n",
       "      <td>4198</td>\n",
       "      <td>66</td>\n",
       "      <td>1</td>\n",
       "      <td>35</td>\n",
       "      <td>1</td>\n",
       "      <td>1</td>\n",
       "      <td>1</td>\n",
       "      <td>15</td>\n",
       "      <td>240.020</td>\n",
       "    </tr>\n",
       "    <tr>\n",
       "      <th>4</th>\n",
       "      <td>3</td>\n",
       "      <td>0</td>\n",
       "      <td>38</td>\n",
       "      <td>0</td>\n",
       "      <td>2393</td>\n",
       "      <td>58</td>\n",
       "      <td>2</td>\n",
       "      <td>33</td>\n",
       "      <td>1</td>\n",
       "      <td>1</td>\n",
       "      <td>1</td>\n",
       "      <td>15</td>\n",
       "      <td>145.805</td>\n",
       "    </tr>\n",
       "  </tbody>\n",
       "</table>\n",
       "</div>"
      ],
      "text/plain": [
       "   Call Failure  Complains  Subscription Length  Charge Amount  \\\n",
       "0             8          0                   38              0   \n",
       "1             0          0                   39              0   \n",
       "2            10          0                   37              0   \n",
       "3            10          0                   38              0   \n",
       "4             3          0                   38              0   \n",
       "\n",
       "   Seconds of Use  Frequency of use  Frequency of SMS  \\\n",
       "0            4370                71                 5   \n",
       "1             318                 5                 7   \n",
       "2            2453                60               359   \n",
       "3            4198                66                 1   \n",
       "4            2393                58                 2   \n",
       "\n",
       "   Distinct Called Numbers  Age Group  Tariff Plan  Status  Age  \\\n",
       "0                       17          3            1       1   30   \n",
       "1                        4          2            1       2   25   \n",
       "2                       24          3            1       1   30   \n",
       "3                       35          1            1       1   15   \n",
       "4                       33          1            1       1   15   \n",
       "\n",
       "   Customer Value  \n",
       "0         197.640  \n",
       "1          46.035  \n",
       "2        1536.520  \n",
       "3         240.020  \n",
       "4         145.805  "
      ]
     },
     "execution_count": 262,
     "metadata": {},
     "output_type": "execute_result"
    }
   ],
   "source": [
    "# X peut etre sous forme de dataframe ou numpy.ndarray\n",
    "# Y peut etre sous forme de series ou numpy.ndarray\n",
    "X = df_iranian_churn.iloc[:, 0:14]\n",
    "y = df_iranian_churn['Churn']\n",
    "X.drop(['Churn'], axis=1, inplace=True)\n",
    "X.head()"
   ]
  },
  {
   "cell_type": "markdown",
   "metadata": {},
   "source": [
    "## Algorithmes Machine Learning"
   ]
  },
  {
   "cell_type": "markdown",
   "metadata": {},
   "source": [
    "## Logistic Regression"
   ]
  },
  {
   "cell_type": "code",
   "execution_count": 263,
   "metadata": {},
   "outputs": [
    {
     "name": "stdout",
     "output_type": "stream",
     "text": [
      "Accuracy Score:\n",
      "0.895\n",
      "Classification report:\n",
      "               precision    recall  f1-score   support\n",
      "\n",
      "           0       0.91      0.97      0.94       538\n",
      "           1       0.72      0.46      0.56        92\n",
      "\n",
      "    accuracy                           0.90       630\n",
      "   macro avg       0.82      0.71      0.75       630\n",
      "weighted avg       0.89      0.90      0.88       630\n",
      "\n",
      "Confusion matrix:\n",
      " [[522  16]\n",
      " [ 50  42]]\n"
     ]
    }
   ],
   "source": [
    " # Step 1: split the features and labels into train and test data\n",
    "X_train, X_test, y_train, y_test = train_test_split(X, y, test_size=0.2)\n",
    "\n",
    "# Step 2: Fit a logistic regression model to our data\n",
    "model_LR = LogisticRegression(solver='liblinear')\n",
    "\n",
    " # Step 3: Fit the model to the training data\n",
    "model_LR.fit(X_train, y_train)\n",
    "\n",
    " # Step 4: Obtain model predictions from the test data\n",
    "predicted = model_LR.predict(X_test)\n",
    "\n",
    "accuracy_score_LR = accuracy_score(y_test, predicted)\n",
    "print(f'Accuracy Score:\\n{accuracy_score(y_test, predicted):0.3f}')\n",
    "\n",
    "# Step 5: Print the classifcation report and confusion matrix\n",
    "print('Classification report:\\n', classification_report(y_test, predicted)) \n",
    "conf_mat = confusion_matrix(y_true=y_test, y_pred=predicted) \n",
    "print('Confusion matrix:\\n', conf_mat)"
   ]
  },
  {
   "cell_type": "markdown",
   "metadata": {},
   "source": [
    "### Vérification de la véracité de la prédiction avec des valeurs de mon profil "
   ]
  },
  {
   "cell_type": "code",
   "execution_count": 148,
   "metadata": {},
   "outputs": [
    {
     "data": {
      "text/plain": [
       "array([0])"
      ]
     },
     "execution_count": 148,
     "metadata": {},
     "output_type": "execute_result"
    }
   ],
   "source": [
    "predicted = X_test.iloc[0,:]\n",
    "predicted = model_LR.predict([[1,0, 60, 4, 8600, 78, 2233, 18, 2, 1, 1, 23, 1500.00]])\n",
    "predicted"
   ]
  },
  {
   "cell_type": "markdown",
   "metadata": {},
   "source": [
    "### Vérification de la véracité de la prédiction avec des valeurs supposées influencer la résiliation"
   ]
  },
  {
   "cell_type": "code",
   "execution_count": 149,
   "metadata": {},
   "outputs": [
    {
     "data": {
      "text/plain": [
       "array([1])"
      ]
     },
     "execution_count": 149,
     "metadata": {},
     "output_type": "execute_result"
    }
   ],
   "source": [
    "predicted = X_test.iloc[0,:]\n",
    "predicted = model_LR.predict([[42, 1, 12, 8, 400, 20, 16, 4, 2, 1, 1, 2, 120.00]])\n",
    "predicted"
   ]
  },
  {
   "cell_type": "markdown",
   "metadata": {},
   "source": [
    "On obtient bien comme résultat une résiliation du client avec les paramètres suivants :\n",
    "    Call Failure = 42,\n",
    "    Complains = 1,\n",
    "    Subscription Length = 12,\n",
    "    Charge Amount = 8,\n",
    "    Seconds of Use = 400,\n",
    "    Frequency of use = 20,\n",
    "    Frequency of SMS = 16,\n",
    "    Distinct Called Numbers = 4,\n",
    "    Age Group = 2,\n",
    "    Tariff Plan = 1,\n",
    "    Status = 1,\n",
    "    Age = 2,\n",
    "    Customer Value = 120\n",
    "    \n",
    "Avec ces paramètres, ce résultat semble être cohérant et concorder avec la réalité"
   ]
  },
  {
   "cell_type": "markdown",
   "metadata": {},
   "source": [
    "## Logistic regression with SMOTE"
   ]
  },
  {
   "cell_type": "markdown",
   "metadata": {},
   "source": [
    "La classification déséquilibrée implique le développement de modèles prédictifs sur des ensembles de données de classification qui présentent un grave déséquilibre de classe.\n",
    "\n",
    "Le défi de travailler avec des ensembles de données déséquilibrés est que la plupart des techniques d'apprentissage automatique ignorent la classe minoritaire et ont à leur tour de mauvaises performances sur cette classe, bien que ce soit généralement la performance sur la classe minoritaire qui est la plus importante.\n",
    "\n",
    "Une approche pour remédier aux ensembles de données déséquilibrés consiste à suréchantillonner la classe minoritaire. L'approche la plus simple consiste à dupliquer des exemples dans la classe minoritaire, bien que ces exemples n'ajoutent aucune nouvelle information au modèle. Au lieu de cela, de nouveaux exemples peuvent être synthétisés à partir des exemples existants. Il s'agit d'un type d'augmentation des données pour la classe minoritaire, appelé \"Synthetic Minority Oversampling Technique\" (SMOTE)."
   ]
  },
  {
   "cell_type": "code",
   "execution_count": 264,
   "metadata": {},
   "outputs": [
    {
     "name": "stdout",
     "output_type": "stream",
     "text": [
      "Accuracy Score:\n",
      "0.837\n",
      "Classifcation report:\n",
      "               precision    recall  f1-score   support\n",
      "\n",
      "           0       0.98      0.82      0.89       521\n",
      "           1       0.52      0.91      0.66       109\n",
      "\n",
      "    accuracy                           0.84       630\n",
      "   macro avg       0.75      0.86      0.78       630\n",
      "weighted avg       0.90      0.84      0.85       630\n",
      "\n",
      "Confusion matrix:\n",
      " [[428  93]\n",
      " [ 10  99]]\n"
     ]
    }
   ],
   "source": [
    "\"\"\" Logistic regression with SMOTE \"\"\"\n",
    "# Define which resampling method and which ML model to use in the pipeline\n",
    "resampling = SMOTE()\n",
    "model_LR_SMOTE = LogisticRegression(solver='liblinear')\n",
    "\n",
    "# Combining a logistic regression with a SMOTE method\n",
    "# Treat Pipeline as if it was a single ml model\n",
    "pipeline = Pipeline([('SMOTE', resampling), ('Logistic Regression', model_LR_SMOTE)])\n",
    "\n",
    "# Split your data X and y, into a training and a test set and fit the pipeline onto the training data\n",
    "X_train, X_test, y_train, y_test = train_test_split(X, y, test_size=0.2, random_state=0 )\n",
    "\n",
    "pipeline.fit(X_train, y_train) \n",
    "predicted = pipeline.predict(X_test)\n",
    "\n",
    "accuracy_score_LR_SMOTE = accuracy_score(y_test, predicted)\n",
    "print(f'Accuracy Score:\\n{accuracy_score(y_test, predicted):0.3f}')\n",
    "\n",
    "# Obtain the results from the classification report and confusion matrix\n",
    "print('Classifcation report:\\n', classification_report(y_test, predicted)) \n",
    "conf_mat = confusion_matrix(y_true=y_test, y_pred=predicted) \n",
    "print('Confusion matrix:\\n', conf_mat)"
   ]
  },
  {
   "cell_type": "markdown",
   "metadata": {},
   "source": [
    "Avec le SMOTE, la regression logistique a une précision plus faible pour le nombre de  clients ayant résiliés que celle sans. Le surechantillonage du nombre d'échantillons pour la classe 1 (le client résilie) a entrainé plus de FP qui est moins grave que d'avoir plus de FN. \n",
    "\n",
    "Par ailleurs, on constate qu'on a moins de FN ce qui est encourageant et on prédit mieux les personnes qui souhaitent résiliées avec cette méthode"
   ]
  },
  {
   "cell_type": "markdown",
   "metadata": {},
   "source": [
    "## Random Forest"
   ]
  },
  {
   "cell_type": "code",
   "execution_count": 265,
   "metadata": {},
   "outputs": [
    {
     "name": "stdout",
     "output_type": "stream",
     "text": [
      "Accuracy Score:\n",
      "0.948\n",
      "ROC Score:\n",
      "0.9828487911391292\n",
      "\n",
      "Classification Report:\n",
      "              precision    recall  f1-score   support\n",
      "\n",
      "           0       0.96      0.98      0.97       521\n",
      "           1       0.89      0.80      0.84       109\n",
      "\n",
      "    accuracy                           0.95       630\n",
      "   macro avg       0.92      0.89      0.90       630\n",
      "weighted avg       0.95      0.95      0.95       630\n",
      "\n",
      "\n",
      "Confusion Matrix:\n",
      "[[510  11]\n",
      " [ 22  87]]\n"
     ]
    }
   ],
   "source": [
    "from inspect import signature \n",
    "\"\"\" RANDOM FOREST \"\"\"\n",
    "\n",
    "# Split your data into training and test set\n",
    "X_train, X_test, y_train, y_test = train_test_split(X, y, test_size=0.2, random_state=0 )\n",
    "\n",
    " # Define the model as the random forest\n",
    "model_RF = RandomForestClassifier(random_state=5, min_samples_leaf=3, n_estimators=200, n_jobs=-1)\n",
    "\n",
    " # Fit the model to our training set\n",
    "model_RF.fit(X_train, y_train)\n",
    "\n",
    " # Obtain predictions from the test data\n",
    "predicted = model_RF.predict(X_test)\n",
    "\n",
    "accuracy_score_RF = accuracy_score(y_test, predicted)\n",
    "print(f'Accuracy Score:\\n{accuracy_score(y_test, predicted):0.3f}')\n",
    " \n",
    "  # Predict probabilities\n",
    "probs = model_RF.predict_proba(X_test)\n",
    "# Print the ROC curve, classification report and confusion matrix\n",
    "print('ROC Score:') \n",
    "print(roc_auc_score(y_test, probs[:,1])) \n",
    "print('\\nClassification Report:') \n",
    "print(classification_report(y_test, predicted)) \n",
    "print('\\nConfusion Matrix:') \n",
    "print(confusion_matrix(y_test, predicted))"
   ]
  },
  {
   "cell_type": "code",
   "execution_count": 64,
   "metadata": {},
   "outputs": [
    {
     "name": "stdout",
     "output_type": "stream",
     "text": [
      "Precision: [0.17883598 0.88356164 1.        ]\n",
      "Recall: [1.         0.76331361 0.        ]\n"
     ]
    },
    {
     "data": {
      "image/png": "[encoded data removed]",
      "text/plain": [
       "<Figure size 432x288 with 1 Axes>"
      ]
     },
     "metadata": {
      "needs_background": "light"
     },
     "output_type": "display_data"
    }
   ],
   "source": [
    "# Calculate average precision and the PR curve\n",
    "average_precision = average_precision_score(y_test, predicted) \n",
    "average_precision\n",
    "\n",
    "# Obtain precision and recall\n",
    "precision, recall, _ = precision_recall_curve(y_test, predicted) \n",
    "print(f'Precision: {precision}\\nRecall: {recall}')\n",
    "\n",
    "def plot_pr_curve(recall, precision, average_precision): \n",
    "    plt.figure()\n",
    "    step_kwargs = ({'step': 'post'}\n",
    "    if 'step' in signature(plt.fill_between).parameters else {})\n",
    "    plt.step(recall, precision, color='b', alpha=0.2, where='post') \n",
    "    plt.fill_between(recall, precision, alpha=0.2, color='b', **step_kwargs)\n",
    "    plt.xlabel('Recall')\n",
    "    plt.ylabel('Precision')\n",
    "    plt.ylim([0.0, 1.0])\n",
    "    plt.xlim([0.0, 1.0])\n",
    "    plt.title(f'2-class Precision-Recall curve: AP={average_precision:0.2f}') \n",
    "    return plt.show()\n",
    "\n",
    " # Plot the recall precision tradeoff\n",
    "plot_pr_curve(recall, precision, average_precision)"
   ]
  },
  {
   "cell_type": "markdown",
   "metadata": {},
   "source": [
    "## KNN"
   ]
  },
  {
   "cell_type": "code",
   "execution_count": 266,
   "metadata": {},
   "outputs": [
    {
     "name": "stdout",
     "output_type": "stream",
     "text": [
      "Accuracy Score:\n",
      "0.846\n",
      "ROC Score:\n",
      "0.8350208667171459\n",
      "\n",
      "Classification Report:\n",
      "              precision    recall  f1-score   support\n",
      "\n",
      "           0       0.89      0.93      0.91       521\n",
      "           1       0.57      0.42      0.49       109\n",
      "\n",
      "    accuracy                           0.85       630\n",
      "   macro avg       0.73      0.68      0.70       630\n",
      "weighted avg       0.83      0.85      0.84       630\n",
      "\n",
      "\n",
      "Confusion Matrix:\n",
      "[[487  34]\n",
      " [ 63  46]]\n"
     ]
    }
   ],
   "source": [
    "from sklearn.neighbors         import KNeighborsClassifier\n",
    "# Split your data into training and test set\n",
    "X_train, X_test, y_train, y_test = train_test_split(X, y, test_size=0.2, random_state=0 )\n",
    "\n",
    " # Define the model as the random forest\n",
    "model_KNN = KNeighborsClassifier()\n",
    "\n",
    " # Fit the model to our training set\n",
    "model_KNN.fit(X_train, y_train)\n",
    "\n",
    " # Obtain predictions from the test data\n",
    "predicted = model_KNN.predict(X_test)\n",
    "\n",
    "accuracy_score_KNN = accuracy_score(y_test, predicted)\n",
    "print(f'Accuracy Score:\\n{accuracy_score(y_test, predicted):0.3f}')\n",
    " \n",
    "  # Predict probabilities\n",
    "probs = model_KNN.predict_proba(X_test)\n",
    "# Print the ROC curve, classification report and confusion matrix\n",
    "print('ROC Score:') \n",
    "print(roc_auc_score(y_test, probs[:,1])) \n",
    "print('\\nClassification Report:') \n",
    "print(classification_report(y_test, predicted)) \n",
    "print('\\nConfusion Matrix:') \n",
    "print(confusion_matrix(y_test, predicted))"
   ]
  },
  {
   "cell_type": "markdown",
   "metadata": {},
   "source": [
    "## CLF "
   ]
  },
  {
   "cell_type": "code",
   "execution_count": 267,
   "metadata": {},
   "outputs": [
    {
     "name": "stdout",
     "output_type": "stream",
     "text": [
      "Accuracy Score:\n",
      "0.940\n",
      "ROC Score:\n",
      "0.8350208667171459\n",
      "\n",
      "Classification Report:\n",
      "              precision    recall  f1-score   support\n",
      "\n",
      "           0       0.96      0.97      0.96       521\n",
      "           1       0.84      0.81      0.82       109\n",
      "\n",
      "    accuracy                           0.94       630\n",
      "   macro avg       0.90      0.89      0.89       630\n",
      "weighted avg       0.94      0.94      0.94       630\n",
      "\n",
      "\n",
      "Confusion Matrix:\n",
      "[[504  17]\n",
      " [ 21  88]]\n"
     ]
    }
   ],
   "source": [
    "from sklearn.ensemble import GradientBoostingClassifier\n",
    "# Split your data into training and test set\n",
    "X_train, X_test, y_train, y_test = train_test_split(X, y, test_size=0.2, random_state=0 )\n",
    "\n",
    " # Define the model as the random forest\n",
    "model_CLF = GradientBoostingClassifier()\n",
    "\n",
    " # Fit the model to our training set\n",
    "model_CLF.fit(X_train, y_train)\n",
    "\n",
    " # Obtain predictions from the test data\n",
    "predicted = model_CLF.predict(X_test)\n",
    "\n",
    "accuracy_score_CLF = accuracy_score(y_test, predicted)\n",
    "print(f'Accuracy Score:\\n{accuracy_score(y_test, predicted):0.3f}')\n",
    "\n",
    "  # Predict probabilities\n",
    "probs = model_KNN.predict_proba(X_test)\n",
    "# Print the ROC curve, classification report and confusion matrix\n",
    "print('ROC Score:') \n",
    "print(roc_auc_score(y_test, probs[:,1])) \n",
    "print('\\nClassification Report:') \n",
    "print(classification_report(y_test, predicted)) \n",
    "print('\\nConfusion Matrix:') \n",
    "print(confusion_matrix(y_test, predicted))"
   ]
  },
  {
   "cell_type": "markdown",
   "metadata": {},
   "source": [
    "## Comparaison de tous les algorithmes"
   ]
  },
  {
   "cell_type": "code",
   "execution_count": 154,
   "metadata": {},
   "outputs": [
    {
     "data": {
      "text/plain": [
       "{'Logistic Regression': [0.9126984126984127],\n",
       " 'Logistic Regression with SMOTE': [0.8201058201058201],\n",
       " 'Random Forest': [0.946031746031746],\n",
       " 'KNN': [0.8285714285714286],\n",
       " 'Classifier Grading Boosting': [0.9343915343915344]}"
      ]
     },
     "execution_count": 154,
     "metadata": {},
     "output_type": "execute_result"
    }
   ],
   "source": [
    "performances = {}\n",
    "performances['Logistic Regression'] = [accuracy_score_LR]\n",
    "performances['Logistic Regression with SMOTE'] = [accuracy_score_LR_SMOTE]\n",
    "performances['Random Forest'] = [accuracy_score_RF]\n",
    "performances['KNN'] = [accuracy_score_KNN]\n",
    "performances['Classifier Grading Boosting'] = [accuracy_score_CLF]\n",
    "performances"
   ]
  },
  {
   "cell_type": "code",
   "execution_count": 155,
   "metadata": {},
   "outputs": [
    {
     "data": {
      "text/html": [
       "<div>\n",
       "<style scoped>\n",
       "    .dataframe tbody tr th:only-of-type {\n",
       "        vertical-align: middle;\n",
       "    }\n",
       "\n",
       "    .dataframe tbody tr th {\n",
       "        vertical-align: top;\n",
       "    }\n",
       "\n",
       "    .dataframe thead th {\n",
       "        text-align: right;\n",
       "    }\n",
       "</style>\n",
       "<table border=\"1\" class=\"dataframe\">\n",
       "  <thead>\n",
       "    <tr style=\"text-align: right;\">\n",
       "      <th></th>\n",
       "      <th>Performance</th>\n",
       "    </tr>\n",
       "  </thead>\n",
       "  <tbody>\n",
       "    <tr>\n",
       "      <th>Logistic Regression</th>\n",
       "      <td>0.912698</td>\n",
       "    </tr>\n",
       "    <tr>\n",
       "      <th>Logistic Regression with SMOTE</th>\n",
       "      <td>0.820106</td>\n",
       "    </tr>\n",
       "    <tr>\n",
       "      <th>Random Forest</th>\n",
       "      <td>0.946032</td>\n",
       "    </tr>\n",
       "    <tr>\n",
       "      <th>KNN</th>\n",
       "      <td>0.828571</td>\n",
       "    </tr>\n",
       "    <tr>\n",
       "      <th>Classifier Grading Boosting</th>\n",
       "      <td>0.934392</td>\n",
       "    </tr>\n",
       "  </tbody>\n",
       "</table>\n",
       "</div>"
      ],
      "text/plain": [
       "                                Performance\n",
       "Logistic Regression                0.912698\n",
       "Logistic Regression with SMOTE     0.820106\n",
       "Random Forest                      0.946032\n",
       "KNN                                0.828571\n",
       "Classifier Grading Boosting        0.934392"
      ]
     },
     "execution_count": 155,
     "metadata": {},
     "output_type": "execute_result"
    }
   ],
   "source": [
    "df_performances = pd.DataFrame(performances).T\n",
    "col_name = \"Performance\"\n",
    "df_performances.columns = [col_name]\n",
    "df_performances"
   ]
  },
  {
   "cell_type": "markdown",
   "metadata": {},
   "source": [
    "## Classement des performances des algorithmes"
   ]
  },
  {
   "cell_type": "code",
   "execution_count": 156,
   "metadata": {},
   "outputs": [
    {
     "data": {
      "text/plain": [
       "Logistic Regression with SMOTE    0.820106\n",
       "KNN                               0.828571\n",
       "Logistic Regression               0.912698\n",
       "Classifier Grading Boosting       0.934392\n",
       "Random Forest                     0.946032\n",
       "Name: Performance, dtype: float64"
      ]
     },
     "execution_count": 156,
     "metadata": {},
     "output_type": "execute_result"
    }
   ],
   "source": [
    "df_performances[\"Performance\"].sort_values()"
   ]
  },
  {
   "cell_type": "markdown",
   "metadata": {},
   "source": [
    "## Gain en performance (comparaison entre les algorithmes avec le premier du dataframe)"
   ]
  },
  {
   "cell_type": "code",
   "execution_count": 157,
   "metadata": {},
   "outputs": [],
   "source": [
    "liste_des_performances = df_performances.Performance.values\n",
    "gains = [0]\n",
    "for indice, performance in enumerate(liste_des_performances):\n",
    "    if indice>0:\n",
    "        previous_value = liste_des_performances[indice-1]\n",
    "        current_value  = liste_des_performances[indice]\n",
    "        gain = (current_value - previous_value) / previous_value\n",
    "        gains.append(round(gain*100, 2))\n",
    "df_performances[\"gains\"] = gains"
   ]
  },
  {
   "cell_type": "code",
   "execution_count": 158,
   "metadata": {},
   "outputs": [
    {
     "data": {
      "text/html": [
       "<div>\n",
       "<style scoped>\n",
       "    .dataframe tbody tr th:only-of-type {\n",
       "        vertical-align: middle;\n",
       "    }\n",
       "\n",
       "    .dataframe tbody tr th {\n",
       "        vertical-align: top;\n",
       "    }\n",
       "\n",
       "    .dataframe thead th {\n",
       "        text-align: right;\n",
       "    }\n",
       "</style>\n",
       "<table border=\"1\" class=\"dataframe\">\n",
       "  <thead>\n",
       "    <tr style=\"text-align: right;\">\n",
       "      <th></th>\n",
       "      <th>Performance</th>\n",
       "      <th>gains</th>\n",
       "    </tr>\n",
       "  </thead>\n",
       "  <tbody>\n",
       "    <tr>\n",
       "      <th>Logistic Regression</th>\n",
       "      <td>0.912698</td>\n",
       "      <td>0.00</td>\n",
       "    </tr>\n",
       "    <tr>\n",
       "      <th>Logistic Regression with SMOTE</th>\n",
       "      <td>0.820106</td>\n",
       "      <td>-10.14</td>\n",
       "    </tr>\n",
       "    <tr>\n",
       "      <th>Random Forest</th>\n",
       "      <td>0.946032</td>\n",
       "      <td>15.35</td>\n",
       "    </tr>\n",
       "    <tr>\n",
       "      <th>KNN</th>\n",
       "      <td>0.828571</td>\n",
       "      <td>-12.42</td>\n",
       "    </tr>\n",
       "    <tr>\n",
       "      <th>Classifier Grading Boosting</th>\n",
       "      <td>0.934392</td>\n",
       "      <td>12.77</td>\n",
       "    </tr>\n",
       "  </tbody>\n",
       "</table>\n",
       "</div>"
      ],
      "text/plain": [
       "                                Performance  gains\n",
       "Logistic Regression                0.912698   0.00\n",
       "Logistic Regression with SMOTE     0.820106 -10.14\n",
       "Random Forest                      0.946032  15.35\n",
       "KNN                                0.828571 -12.42\n",
       "Classifier Grading Boosting        0.934392  12.77"
      ]
     },
     "execution_count": 158,
     "metadata": {},
     "output_type": "execute_result"
    }
   ],
   "source": [
    "df_performances"
   ]
  },
  {
   "cell_type": "markdown",
   "metadata": {},
   "source": [
    "## Visualisation des performances des algorithmes"
   ]
  },
  {
   "cell_type": "code",
   "execution_count": 159,
   "metadata": {},
   "outputs": [
    {
     "data": {
      "image/png": "[encoded data removed]",
      "text/plain": [
       "<Figure size 432x288 with 1 Axes>"
      ]
     },
     "metadata": {
      "needs_background": "light"
     },
     "output_type": "display_data"
    }
   ],
   "source": [
    "import matplotlib.pyplot as plt\n",
    "import matplotlib.ticker as ticker\n",
    "df_performances = df_performances.drop(\"gains\", axis=1)\n",
    "df_performances = df_performances.sort_values(col_name)\n",
    "ax = df_performances.plot(rot=45, x_compat=True)\n",
    "ax.xaxis.set_ticklabels(df_performances.index)\n",
    "ax.xaxis.set_major_locator(ticker.MultipleLocator(1))"
   ]
  },
  {
   "cell_type": "code",
   "execution_count": 160,
   "metadata": {},
   "outputs": [
    {
     "data": {
      "image/png": "[encoded data removed]",
      "text/plain": [
       "<Figure size 1080x576 with 1 Axes>"
      ]
     },
     "metadata": {
      "needs_background": "light"
     },
     "output_type": "display_data"
    }
   ],
   "source": [
    "new_labels = []\n",
    "for i, index in enumerate(df_performances.index):\n",
    "    new_label = \"%s (%.2f)\"%(index,df_performances.Performance[i])\n",
    "    new_labels.append(new_label.replace(\"\\n\", \" \"))\n",
    "    \n",
    "fig , axes = plt.subplots(1,1)\n",
    "df_performances.index = new_labels\n",
    "fig.set_size_inches(15,8)\n",
    "fig.subplots_adjust(left=0.65)\n",
    "df_performances.sort_values(col_name).plot(kind='barh', ax=axes)\n",
    "axes.xaxis.set_major_locator(ticker.MultipleLocator(1))\n",
    "\n",
    "pass"
   ]
  },
  {
   "cell_type": "markdown",
   "metadata": {},
   "source": [
    "Le meilleur algorithme pour la classification dans notre étude est l'algorithme du random forest."
   ]
  },
  {
   "cell_type": "markdown",
   "metadata": {},
   "source": [
    "# Algorithmes avec grid Search"
   ]
  },
  {
   "cell_type": "markdown",
   "metadata": {},
   "source": [
    "## Random Forest With Grid Search "
   ]
  },
  {
   "cell_type": "code",
   "execution_count": 234,
   "metadata": {},
   "outputs": [],
   "source": [
    "def RandomForest_grid_search(df, Y):\n",
    "    \"\"\"\n",
    "    Réglage des hyper-paramètres du classifieur Random Forest\n",
    "    \"\"\"\n",
    "    import sys, pickle\n",
    "    from sklearn.ensemble          import RandomForestClassifier\n",
    "    from sklearn.model_selection   import GridSearchCV\n",
    "    from sklearn.metrics           import make_scorer\n",
    "    from sklearn.preprocessing     import label_binarize\n",
    "    from sklearn.multiclass        import OneVsRestClassifier\n",
    "    #grid search :\n",
    "\n",
    "    parameters = {  \"n_estimators\"         : [ 10, 100, 200 ], \n",
    "                    \"min_samples_leaf\"     : [  3,   1,   7 ],\n",
    "                    \"criterion\"            : [\"gini\"],#[\"gini\", \"entropy\"]         ,\n",
    "                    \"max_features\"         : [\"auto\"]      ,\n",
    "                    \"max_depth\"            : [None]         , \n",
    "                    \"n_jobs\"               : [ -1]             ,  \n",
    "                    #\"class_weight\"         : [\"auto\"]          ,\n",
    "                    \"warm_start\"           : [False]           }\n",
    "    parameters = {  \"n_estimators\"         : [ 10], \n",
    "                    \"min_samples_leaf\"     : [  3 ],\n",
    "                    \"criterion\"            : [\"gini\"],#[\"gini\", \"entropy\"]         ,\n",
    "                    \"max_features\"         : [\"auto\"]      ,\n",
    "                    \"max_depth\"            : [None]         , \n",
    "                    \"n_jobs\"               : [ -1]             ,  \n",
    "                    #\"class_weight\"         : [\"auto\"]          ,\n",
    "                    \"warm_start\"           : [False]           }\n",
    "    \n",
    "    grid_type = \"RandomForestClassifier\"\n",
    "    \n",
    "    print (\"-\"*30, \"\\n %s\"%grid_type); sys.stdout.flush()\n",
    "    \"\"\"\n",
    "        Search \n",
    "    \"\"\"\n",
    "    \n",
    "    # Exhaustive Grid Search : will try all parameters combinations\n",
    "    # vs RandomizedSeachCV where the model test random combinations.\n",
    "    \n",
    "    grid         = GridSearchCV(RandomForestClassifier(), parameters, verbose=1, scoring='f1_weighted')\n",
    "    \n",
    "    try :grid.fit(df, Y)\n",
    "    except Exception as e : print (\"[%s - 2] : %s\"%(grid_type,e) )\n",
    "    \n",
    "    print (\" best_score_ %s with =  %s \"%( grid.best_score_,  grid.best_estimator_ ) ); sys.stdout.flush()    \n",
    "    return grid.best_estimator_"
   ]
  },
  {
   "cell_type": "code",
   "execution_count": 232,
   "metadata": {},
   "outputs": [],
   "source": [
    "# La classification se fait en fonction de la variable 'churn' \n",
    "X_train, X_test, Y_train, Y_test = train_test_split(X, y)"
   ]
  },
  {
   "cell_type": "code",
   "execution_count": 235,
   "metadata": {},
   "outputs": [
    {
     "name": "stdout",
     "output_type": "stream",
     "text": [
      "19:41:27\n",
      "------------------------------ \n",
      " RandomForestClassifier\n",
      "Fitting 5 folds for each of 1 candidates, totalling 5 fits\n"
     ]
    },
    {
     "name": "stderr",
     "output_type": "stream",
     "text": [
      "[Parallel(n_jobs=1)]: Using backend SequentialBackend with 1 concurrent workers.\n"
     ]
    },
    {
     "name": "stdout",
     "output_type": "stream",
     "text": [
      " best_score_ 0.9471870834085843 with =  RandomForestClassifier(min_samples_leaf=3, n_estimators=10, n_jobs=-1) \n",
      "19:41:31\n",
      "\n",
      "Duration time : 3.5310330390930176\n"
     ]
    },
    {
     "name": "stderr",
     "output_type": "stream",
     "text": [
      "[Parallel(n_jobs=1)]: Done   5 out of   5 | elapsed:    3.5s finished\n"
     ]
    }
   ],
   "source": [
    "nb_lignes = 3000\n",
    "start_time = print_time()\n",
    "\n",
    "# Apprentissage du classifieur RF sur X_train et Y_train (<nb_lignes> données)\n",
    "rf = RandomForest_grid_search(X_train[:nb_lignes], Y_train[:nb_lignes])\n",
    "\n",
    "end_time = print_time()\n",
    "print (\"\\nDuration time :\", end_time - start_time)"
   ]
  },
  {
   "cell_type": "code",
   "execution_count": 236,
   "metadata": {},
   "outputs": [
    {
     "name": "stderr",
     "output_type": "stream",
     "text": [
      "No handles with labels found to put in legend.\n"
     ]
    },
    {
     "data": {
      "image/png": "[encoded data removed]",
      "text/plain": [
       "<Figure size 432x288 with 1 Axes>"
      ]
     },
     "metadata": {
      "needs_background": "light"
     },
     "output_type": "display_data"
    }
   ],
   "source": [
    "# Courbe ROC des données de test X et Y selon le classifieur RF\n",
    "# Au mieux, le classifieur à une performance de 0.78 pour la prédiction du sexe\n",
    "draw_roc_curve(rf, X_test, Y_test, \"Churn prediction by RF\")"
   ]
  },
  {
   "cell_type": "code",
   "execution_count": 53,
   "metadata": {},
   "outputs": [
    {
     "data": {
      "image/png": "[encoded data removed]",
      "text/plain": [
       "<Figure size 595.44x595.44 with 2 Axes>"
      ]
     },
     "metadata": {},
     "output_type": "display_data"
    }
   ],
   "source": [
    "# Matrice de confusion des données X_test sur lesquelles on fait la prédiction et des données Y_test.\n",
    "draw_confusion_matrix(Y_test, rf.predict(X_test), \"\")"
   ]
  },
  {
   "cell_type": "markdown",
   "metadata": {},
   "source": [
    "## KNN with grid search"
   ]
  },
  {
   "cell_type": "code",
   "execution_count": 54,
   "metadata": {},
   "outputs": [],
   "source": [
    "def knn_grid_search(df, Y):\n",
    "    \"\"\"\n",
    "    Réglage des hyper-paramètres du classifieur K Nearest Neighbors\n",
    "    Plusieurs hyper-paramètres sont disponibles\n",
    "    L'entrainement du modèle va s'effectuer sur plusieurs paramètres\n",
    "    Le best_score représentera le modèle avec les meilleurs paramètres\n",
    "    \"\"\"\n",
    "    import sys\n",
    "    from sklearn.model_selection   import GridSearchCV\n",
    "    from sklearn.neighbors         import KNeighborsClassifier\n",
    "    \n",
    "    import pickle\n",
    "\n",
    "    parameters = {  \"n_neighbors\"    : [2, 3, 5, 8 , 10]                         , \n",
    "                    \"weights\"         : ['uniform', 'distance']                  ,\n",
    "                    \"algorithm\"      : ['auto', 'ball_tree', 'kd_tree', 'brute'] , \n",
    "                    \"leaf_size\"      : [1,3 ]                                    }\n",
    "    \n",
    "    \n",
    "    grid_type = \"knn_grid_search\"\n",
    "    print (\"-\"*30, \"\\n %s\"%grid_type); sys.stdout.flush()\n",
    "    \"\"\"\n",
    "        Search Grid\n",
    "    \"\"\"\n",
    "    print (parameters);sys.stdout.flush()\n",
    "    grid    = GridSearchCV(KNeighborsClassifier(), parameters, verbose=0, scoring='f1_weighted')\n",
    "    try :grid.fit(df, Y)\n",
    "    except Exception as e : print (\"Error : [%s - 2] : %s\"%(grid_type,e) ); return -1\n",
    "\n",
    "    \n",
    "    print (\" best_score_ = %.2f with =  %s \"%(grid.best_score_, grid.best_estimator_ ) ); sys.stdout.flush()    \n",
    "    return grid"
   ]
  },
  {
   "cell_type": "code",
   "execution_count": 55,
   "metadata": {},
   "outputs": [
    {
     "name": "stdout",
     "output_type": "stream",
     "text": [
      "16:43:10\n",
      "------------------------------ \n",
      " knn_grid_search\n",
      "{'n_neighbors': [2, 3, 5, 8, 10], 'weights': ['uniform', 'distance'], 'algorithm': ['auto', 'ball_tree', 'kd_tree', 'brute'], 'leaf_size': [1, 3]}\n",
      " best_score_ = 0.86 with =  KNeighborsClassifier(leaf_size=1, n_neighbors=2, weights='distance') \n",
      "16:43:25\n",
      "\n",
      "Duration time : 15.205899953842163\n"
     ]
    }
   ],
   "source": [
    "nb_ligne = 3000\n",
    "start_time = print_time()\n",
    "\n",
    "# Apprentissage du classifieur KNN sur X_train et Y_train (<nb_lignes> données)\n",
    "knn = knn_grid_search(X_train[:nb_ligne], Y_train[:nb_ligne])\n",
    "\n",
    "end_time = print_time()\n",
    "print (\"\\nDuration time :\", end_time - start_time)"
   ]
  },
  {
   "cell_type": "code",
   "execution_count": 56,
   "metadata": {},
   "outputs": [
    {
     "name": "stderr",
     "output_type": "stream",
     "text": [
      "No handles with labels found to put in legend.\n"
     ]
    },
    {
     "data": {
      "image/png": "[encoded data removed]",
      "text/plain": [
       "<Figure size 842.4x595.44 with 1 Axes>"
      ]
     },
     "metadata": {},
     "output_type": "display_data"
    }
   ],
   "source": [
    "# Courbe ROC des données de test X et Y selon le classifieur KNN\n",
    "# Au mieux, le classifieur à une performance de 0.69 pour la prédiction du sexe (mais nécessitant un temps assez important)\n",
    "# Plus l'apprentissage se fait sur un nombre de données, plus l'indice de prédiction augmente.\n",
    "# Pour obtenir un tel résultat, le temps nécessaire est tout de même trop important.\n",
    "draw_roc_curve(knn, X_test, Y_test, \"Sex prediction by KNN\")"
   ]
  },
  {
   "cell_type": "code",
   "execution_count": 57,
   "metadata": {},
   "outputs": [
    {
     "data": {
      "image/png": "[encoded data removed]",
      "text/plain": [
       "<Figure size 595.44x595.44 with 2 Axes>"
      ]
     },
     "metadata": {},
     "output_type": "display_data"
    }
   ],
   "source": [
    "# Matrice de confusion des données X_test sur lesquelles on fait la prédiction et des données Y_test.\n",
    "draw_confusion_matrix(Y_test, knn.predict(X_test), \"\") "
   ]
  },
  {
   "cell_type": "markdown",
   "metadata": {},
   "source": [
    "## CLF with grid search"
   ]
  },
  {
   "cell_type": "code",
   "execution_count": 58,
   "metadata": {},
   "outputs": [],
   "source": [
    "def clf_grid_search(df, Y):\n",
    "    \"\"\"\n",
    "    Réglage des hyper-paramètres du Classifier Gradient Boosting\n",
    "    \"\"\"\n",
    "    import sys\n",
    "    from sklearn.model_selection   import GridSearchCV\n",
    "    from sklearn.neighbors         import KNeighborsClassifier\n",
    "    from sklearn import ensemble\n",
    "    from sklearn import datasets\n",
    "    from sklearn.utils import shuffle\n",
    "    from sklearn.metrics import mean_squared_error\n",
    "    from sklearn.datasets import make_hastie_10_2\n",
    "    from sklearn.ensemble import GradientBoostingClassifier\n",
    "    \n",
    "    import pickle\n",
    "\n",
    "    parameters = {'n_estimators': 10                       ,\n",
    "                  'max_depth': None                        ,\n",
    "                  'min_samples_split': 2                   ,\n",
    "                  'learning_rate': 0.01                    ,\n",
    "                  'loss': 'ls'                             }\n",
    "    \n",
    "    grid_type = \"clf_grid_search\"\n",
    "    print (\"-\"*30, \"\\n %s\"%grid_type); sys.stdout.flush()\n",
    "    \"\"\"\n",
    "        Search Grid\n",
    "    \"\"\"\n",
    "    print (parameters);sys.stdout.flush()\n",
    "    \n",
    "    \n",
    "    grid = GridSearchCV(GradientBoostingClassifier(), {})\n",
    "    try :grid.fit(df, Y)\n",
    "    except Exception as e : print (\"Error : [%s - 2] : %s\"%(grid_type,e) ); return -1\n",
    "    print (\" best_score_ = %.2f with =  %s \"%(grid.best_score_, grid.best_estimator_ ) ); sys.stdout.flush()    \n",
    "    return grid"
   ]
  },
  {
   "cell_type": "code",
   "execution_count": 59,
   "metadata": {},
   "outputs": [
    {
     "name": "stdout",
     "output_type": "stream",
     "text": [
      "16:45:06\n",
      "------------------------------ \n",
      " clf_grid_search\n",
      "{'n_estimators': 10, 'max_depth': None, 'min_samples_split': 2, 'learning_rate': 0.01, 'loss': 'ls'}\n",
      " best_score_ = 0.94 with =  GradientBoostingClassifier() \n",
      "16:45:09\n",
      "\n",
      "Duration time : 3.7153279781341553\n"
     ]
    }
   ],
   "source": [
    "nb_ligne = 3000\n",
    "start_time = print_time()\n",
    "\n",
    "clf = clf_grid_search(X_train[:nb_ligne], Y_train[:nb_ligne])\n",
    "\n",
    "end_time = print_time()\n",
    "print (\"\\nDuration time :\", end_time - start_time)"
   ]
  },
  {
   "cell_type": "code",
   "execution_count": 60,
   "metadata": {},
   "outputs": [
    {
     "name": "stderr",
     "output_type": "stream",
     "text": [
      "No handles with labels found to put in legend.\n"
     ]
    },
    {
     "data": {
      "image/png": "[encoded data removed]",
      "text/plain": [
       "<Figure size 842.4x595.44 with 1 Axes>"
      ]
     },
     "metadata": {},
     "output_type": "display_data"
    }
   ],
   "source": [
    "# Courbe ROC des données de test X et Y selon le classifieur CLF\n",
    "draw_roc_curve(clf, X_test, Y_test, \"Sex prediction by CLF\")"
   ]
  },
  {
   "cell_type": "code",
   "execution_count": 61,
   "metadata": {},
   "outputs": [
    {
     "data": {
      "image/png": "[encoded data removed]",
      "text/plain": [
       "<Figure size 595.44x595.44 with 2 Axes>"
      ]
     },
     "metadata": {},
     "output_type": "display_data"
    }
   ],
   "source": [
    "# Matrice de confusion des données X_test sur lesquelles on fait la prédiction et des données Y_test.\n",
    "draw_confusion_matrix(Y_test, clf.predict(X_test), \"\")"
   ]
  },
  {
   "cell_type": "markdown",
   "metadata": {},
   "source": [
    "## Tests Hyperparamètres"
   ]
  },
  {
   "cell_type": "code",
   "execution_count": 188,
   "metadata": {},
   "outputs": [],
   "source": [
    "df_iranian_churn = pd.read_csv('./Customer Churn.csv', sep=',')\n",
    "df_iranian_churn.rename(columns={'Call  Failure': 'Call Failure', 'Subscription  Length': 'Subscription Length','Charge  Amount': 'Charge Amount'}, inplace=True)\n",
    "del df_iranian_churn[\"FP\"]\n",
    "del df_iranian_churn[\"FN\"]"
   ]
  },
  {
   "cell_type": "code",
   "execution_count": 189,
   "metadata": {},
   "outputs": [
    {
     "data": {
      "text/html": [
       "<div>\n",
       "<style scoped>\n",
       "    .dataframe tbody tr th:only-of-type {\n",
       "        vertical-align: middle;\n",
       "    }\n",
       "\n",
       "    .dataframe tbody tr th {\n",
       "        vertical-align: top;\n",
       "    }\n",
       "\n",
       "    .dataframe thead th {\n",
       "        text-align: right;\n",
       "    }\n",
       "</style>\n",
       "<table border=\"1\" class=\"dataframe\">\n",
       "  <thead>\n",
       "    <tr style=\"text-align: right;\">\n",
       "      <th></th>\n",
       "      <th>Call Failure</th>\n",
       "      <th>Complains</th>\n",
       "      <th>Subscription Length</th>\n",
       "      <th>Charge Amount</th>\n",
       "      <th>Seconds of Use</th>\n",
       "      <th>Frequency of use</th>\n",
       "      <th>Frequency of SMS</th>\n",
       "      <th>Distinct Called Numbers</th>\n",
       "      <th>Age Group</th>\n",
       "      <th>Tariff Plan</th>\n",
       "      <th>Status</th>\n",
       "      <th>Age</th>\n",
       "      <th>Customer Value</th>\n",
       "    </tr>\n",
       "  </thead>\n",
       "  <tbody>\n",
       "    <tr>\n",
       "      <th>0</th>\n",
       "      <td>8</td>\n",
       "      <td>0</td>\n",
       "      <td>38</td>\n",
       "      <td>0</td>\n",
       "      <td>4370</td>\n",
       "      <td>71</td>\n",
       "      <td>5</td>\n",
       "      <td>17</td>\n",
       "      <td>3</td>\n",
       "      <td>1</td>\n",
       "      <td>1</td>\n",
       "      <td>30</td>\n",
       "      <td>197.640</td>\n",
       "    </tr>\n",
       "    <tr>\n",
       "      <th>1</th>\n",
       "      <td>0</td>\n",
       "      <td>0</td>\n",
       "      <td>39</td>\n",
       "      <td>0</td>\n",
       "      <td>318</td>\n",
       "      <td>5</td>\n",
       "      <td>7</td>\n",
       "      <td>4</td>\n",
       "      <td>2</td>\n",
       "      <td>1</td>\n",
       "      <td>2</td>\n",
       "      <td>25</td>\n",
       "      <td>46.035</td>\n",
       "    </tr>\n",
       "    <tr>\n",
       "      <th>2</th>\n",
       "      <td>10</td>\n",
       "      <td>0</td>\n",
       "      <td>37</td>\n",
       "      <td>0</td>\n",
       "      <td>2453</td>\n",
       "      <td>60</td>\n",
       "      <td>359</td>\n",
       "      <td>24</td>\n",
       "      <td>3</td>\n",
       "      <td>1</td>\n",
       "      <td>1</td>\n",
       "      <td>30</td>\n",
       "      <td>1536.520</td>\n",
       "    </tr>\n",
       "    <tr>\n",
       "      <th>3</th>\n",
       "      <td>10</td>\n",
       "      <td>0</td>\n",
       "      <td>38</td>\n",
       "      <td>0</td>\n",
       "      <td>4198</td>\n",
       "      <td>66</td>\n",
       "      <td>1</td>\n",
       "      <td>35</td>\n",
       "      <td>1</td>\n",
       "      <td>1</td>\n",
       "      <td>1</td>\n",
       "      <td>15</td>\n",
       "      <td>240.020</td>\n",
       "    </tr>\n",
       "    <tr>\n",
       "      <th>4</th>\n",
       "      <td>3</td>\n",
       "      <td>0</td>\n",
       "      <td>38</td>\n",
       "      <td>0</td>\n",
       "      <td>2393</td>\n",
       "      <td>58</td>\n",
       "      <td>2</td>\n",
       "      <td>33</td>\n",
       "      <td>1</td>\n",
       "      <td>1</td>\n",
       "      <td>1</td>\n",
       "      <td>15</td>\n",
       "      <td>145.805</td>\n",
       "    </tr>\n",
       "  </tbody>\n",
       "</table>\n",
       "</div>"
      ],
      "text/plain": [
       "   Call Failure  Complains  Subscription Length  Charge Amount  \\\n",
       "0             8          0                   38              0   \n",
       "1             0          0                   39              0   \n",
       "2            10          0                   37              0   \n",
       "3            10          0                   38              0   \n",
       "4             3          0                   38              0   \n",
       "\n",
       "   Seconds of Use  Frequency of use  Frequency of SMS  \\\n",
       "0            4370                71                 5   \n",
       "1             318                 5                 7   \n",
       "2            2453                60               359   \n",
       "3            4198                66                 1   \n",
       "4            2393                58                 2   \n",
       "\n",
       "   Distinct Called Numbers  Age Group  Tariff Plan  Status  Age  \\\n",
       "0                       17          3            1       1   30   \n",
       "1                        4          2            1       2   25   \n",
       "2                       24          3            1       1   30   \n",
       "3                       35          1            1       1   15   \n",
       "4                       33          1            1       1   15   \n",
       "\n",
       "   Customer Value  \n",
       "0         197.640  \n",
       "1          46.035  \n",
       "2        1536.520  \n",
       "3         240.020  \n",
       "4         145.805  "
      ]
     },
     "execution_count": 189,
     "metadata": {},
     "output_type": "execute_result"
    }
   ],
   "source": [
    "# X peut etre sous forme de dataframe ou numpy.ndarray\n",
    "# Y peut etre sous forme de series ou numpy.ndarray\n",
    "X = df_iranian_churn.iloc[:, 0:14]\n",
    "y = df_iranian_churn['Churn']\n",
    "X.drop(['Churn'], axis=1, inplace=True)\n",
    "X.head()"
   ]
  },
  {
   "cell_type": "code",
   "execution_count": 190,
   "metadata": {},
   "outputs": [],
   "source": [
    "X_train, X_test, y_train, y_test = train_test_split(X, y, test_size=0.20)"
   ]
  },
  {
   "cell_type": "code",
   "execution_count": 191,
   "metadata": {},
   "outputs": [],
   "source": [
    "from sklearn.preprocessing import StandardScaler\n",
    "scaler = StandardScaler()\n",
    "scaler.fit(X_train)                 # Il ne faut fiter que sur les data d'entrainement\n",
    "X_train = scaler.transform(X_train)\n",
    "X_test  = scaler.transform(X_test)  # apply same transformation to test data"
   ]
  },
  {
   "cell_type": "code",
   "execution_count": 135,
   "metadata": {},
   "outputs": [
    {
     "data": {
      "text/plain": [
       "array([0.94603175, 0.95714286, 0.93492063, 0.95873016, 0.95079365])"
      ]
     },
     "execution_count": 135,
     "metadata": {},
     "output_type": "execute_result"
    }
   ],
   "source": [
    "from sklearn.ensemble          import RandomForestClassifier\n",
    "rf = RandomForestClassifier()\n",
    "from sklearn.model_selection import  cross_val_score\n",
    "cross_val_score(rf, X, y, n_jobs=-1)"
   ]
  },
  {
   "cell_type": "code",
   "execution_count": 136,
   "metadata": {},
   "outputs": [
    {
     "name": "stdout",
     "output_type": "stream",
     "text": [
      "0.9492063492063492 RandomForestClassifier()\n"
     ]
    }
   ],
   "source": [
    "from sklearn.model_selection import GridSearchCV\n",
    "parameters = {  \"n_estimators\"         : [ 10, 100, 200 ], \n",
    "                \"min_samples_leaf\"     : [  3,   1,   7 ]    }\n",
    "grid = GridSearchCV(rf, parameters, n_jobs=-1)\n",
    "grid.fit(X_train, y_train)\n",
    "print (grid.best_score_, grid.best_estimator_)"
   ]
  },
  {
   "cell_type": "markdown",
   "metadata": {},
   "source": [
    "## Etude Hyperparamètres sur tous les paramètres à partir de l'algo Random Forest"
   ]
  },
  {
   "cell_type": "code",
   "execution_count": 194,
   "metadata": {},
   "outputs": [],
   "source": [
    "df_iranian_churn = pd.read_csv('./Customer Churn.csv', sep=',')\n",
    "df_iranian_churn.rename(columns={'Call  Failure': 'Call Failure', 'Subscription  Length': 'Subscription Length','Charge  Amount': 'Charge Amount'}, inplace=True)\n",
    "del df_iranian_churn[\"FP\"]\n",
    "del df_iranian_churn[\"FN\"]\n",
    "# X peut etre sous forme de dataframe ou numpy.ndarray\n",
    "# Y peut etre sous forme de series ou numpy.ndarray"
   ]
  },
  {
   "cell_type": "markdown",
   "metadata": {},
   "source": [
    "## Tests de l'algorithme Random Forest avec les meilleurs hyperparamètres en fonction du nombre de variables données en paramètres dans le dataset"
   ]
  },
  {
   "cell_type": "markdown",
   "metadata": {},
   "source": [
    "On prendra alors pour l'étude tous les paramètres du dataset vu que le score augmente de manière croissante de manière analogue aux paramètres."
   ]
  },
  {
   "cell_type": "code",
   "execution_count": 130,
   "metadata": {},
   "outputs": [
    {
     "name": "stdout",
     "output_type": "stream",
     "text": [
      "0.8876984126984127 RandomForestClassifier(n_estimators=10)\n"
     ]
    }
   ],
   "source": [
    "from sklearn.model_selection import GridSearchCV\n",
    "parameters = {  \"n_estimators\"         : [ 10, 100, 200 ]           }\n",
    "grid       = GridSearchCV(rf, parameters, n_jobs=-1)\n",
    "grid.fit(X_train, y_train)\n",
    "print (grid.best_score_, grid.best_estimator_)"
   ]
  },
  {
   "cell_type": "code",
   "execution_count": 33,
   "metadata": {},
   "outputs": [
    {
     "name": "stdout",
     "output_type": "stream",
     "text": [
      "0.948015873015873 RandomForestClassifier(min_samples_leaf=3, n_estimators=200)\n"
     ]
    }
   ],
   "source": [
    "parameters = {  \"n_estimators\"         : [ 10, 100, 200 ], \n",
    "                \"min_samples_leaf\"     : [  3,   1,   7 ]    }\n",
    "grid = GridSearchCV(rf, parameters, n_jobs=-1)\n",
    "grid.fit(X_train, y_train)\n",
    "print (grid.best_score_, grid.best_estimator_)"
   ]
  },
  {
   "cell_type": "code",
   "execution_count": 35,
   "metadata": {},
   "outputs": [
    {
     "name": "stdout",
     "output_type": "stream",
     "text": [
      "0.9476190476190476 RandomForestClassifier(min_samples_leaf=3, n_estimators=200)\n"
     ]
    }
   ],
   "source": [
    "parameters = {  \"n_estimators\"         : [ 200 ], \n",
    "                \"min_samples_leaf\"     : [  3],\n",
    "                \"criterion\"            : [\"gini\", \"entropy\"] }\n",
    "grid = GridSearchCV(rf, parameters, n_jobs=-1)\n",
    "grid.fit(X_train, y_train)\n",
    "print (grid.best_score_, grid.best_estimator_)"
   ]
  },
  {
   "cell_type": "code",
   "execution_count": 40,
   "metadata": {},
   "outputs": [
    {
     "name": "stdout",
     "output_type": "stream",
     "text": [
      "0.9464285714285714 RandomForestClassifier(min_samples_leaf=3, n_estimators=200, n_jobs=-1)\n"
     ]
    }
   ],
   "source": [
    "parameters = {  \"n_estimators\"         : [200], \n",
    "                \"min_samples_leaf\"     : [3],\n",
    "                \"criterion\"            : [\"gini\"],\n",
    "                \"max_features\"         : [\"auto\"],\n",
    "                \"max_depth\"            : [None],\n",
    "                \"n_jobs\"               : [ -1],  \n",
    "                #\"class_weight\"         : [\"auto\"],\n",
    "                \"warm_start\"           : [False]}\n",
    "grid = GridSearchCV(rf, parameters, n_jobs=-1)\n",
    "grid.fit(X_train, y_train)\n",
    "print (grid.best_score_, grid.best_estimator_)"
   ]
  },
  {
   "cell_type": "code",
   "execution_count": 137,
   "metadata": {},
   "outputs": [
    {
     "name": "stdout",
     "output_type": "stream",
     "text": [
      "0.9468253968253968 RandomForestClassifier(min_samples_leaf=3, n_estimators=200, n_jobs=-1)\n"
     ]
    }
   ],
   "source": [
    "parameters = {  \"n_estimators\"         : [ 200 ], \n",
    "                \"min_samples_leaf\"     : [  3 ],\n",
    "                \"n_jobs\"               : [ -1]}\n",
    "grid = GridSearchCV(rf, parameters, n_jobs=-1)\n",
    "grid.fit(X_train, y_train)\n",
    "print (grid.best_score_, grid.best_estimator_)"
   ]
  },
  {
   "cell_type": "markdown",
   "metadata": {},
   "source": [
    "L'algorithme a le meilleur score avec n_estimators = 200, min_samples_leaf = 3, n_jobs = -1"
   ]
  },
  {
   "cell_type": "markdown",
   "metadata": {},
   "source": [
    "On veut savoir ici le nombre de features à prendre pour notre modèle afin d'avoir la meilleure précision"
   ]
  },
  {
   "cell_type": "code",
   "execution_count": 217,
   "metadata": {},
   "outputs": [
    {
     "name": "stdout",
     "output_type": "stream",
     "text": [
      "[0.84285714 0.84285714 0.84285714 0.84285714 0.84285714]\n",
      "0.8396825396825397 RandomForestClassifier(min_samples_leaf=3, n_estimators=200, n_jobs=-1)\n",
      "[0.9015873  0.88253968 0.89206349 0.89047619 0.89047619]\n",
      "0.8984126984126984 RandomForestClassifier(min_samples_leaf=3, n_estimators=200, n_jobs=-1)\n",
      "[0.89206349 0.86666667 0.86825397 0.88888889 0.86984127]\n",
      "0.8908730158730158 RandomForestClassifier(min_samples_leaf=3, n_estimators=200, n_jobs=-1)\n",
      "[0.9        0.87619048 0.88412698 0.88095238 0.87936508]\n",
      "0.8980158730158732 RandomForestClassifier(min_samples_leaf=3, n_estimators=200, n_jobs=-1)\n",
      "[0.92698413 0.91111111 0.8984127  0.93174603 0.92380952]\n",
      "0.9166666666666666 RandomForestClassifier(min_samples_leaf=3, n_estimators=200, n_jobs=-1)\n",
      "[0.93492063 0.92857143 0.8984127  0.93809524 0.93968254]\n",
      "0.9261904761904761 RandomForestClassifier(min_samples_leaf=3, n_estimators=200, n_jobs=-1)\n",
      "[0.93174603 0.93333333 0.8968254  0.94285714 0.93809524]\n",
      "0.9341269841269841 RandomForestClassifier(min_samples_leaf=3, n_estimators=200, n_jobs=-1)\n",
      "[0.93174603 0.93650794 0.9015873  0.94761905 0.93492063]\n",
      "0.9242063492063493 RandomForestClassifier(min_samples_leaf=3, n_estimators=200, n_jobs=-1)\n",
      "[0.94126984 0.95555556 0.92380952 0.95079365 0.95555556]\n",
      "0.9416666666666667 RandomForestClassifier(min_samples_leaf=3, n_estimators=200, n_jobs=-1)\n",
      "[0.94603175 0.95079365 0.92539683 0.95079365 0.95079365]\n",
      "0.9448412698412698 RandomForestClassifier(min_samples_leaf=3, n_estimators=200, n_jobs=-1)\n",
      "[0.95873016 0.95873016 0.94603175 0.96031746 0.95873016]\n",
      "0.9523809523809523 RandomForestClassifier(min_samples_leaf=3, n_estimators=200, n_jobs=-1)\n",
      "[0.96349206 0.95873016 0.94444444 0.96349206 0.96031746]\n",
      "0.95 RandomForestClassifier(min_samples_leaf=3, n_estimators=200, n_jobs=-1)\n"
     ]
    }
   ],
   "source": [
    "df_iranian_churn = pd.read_csv('./Customer Churn.csv', sep=',')\n",
    "df_iranian_churn.rename(columns={'Call  Failure': 'Call Failure', 'Subscription  Length': 'Subscription Length','Charge  Amount': 'Charge Amount'}, inplace=True)\n",
    "del df_iranian_churn[\"FP\"]\n",
    "del df_iranian_churn[\"FN\"]\n",
    "\n",
    "for i in range(1, len(df_iranian_churn.columns)-1):\n",
    "    X = df_iranian_churn.iloc[:, 0:i]\n",
    "    y = df_iranian_churn['Churn']\n",
    "    X_train, X_test, y_train, y_test = train_test_split(X, y, test_size=0.20)\n",
    "    \n",
    "    rf = RandomForestClassifier()\n",
    "\n",
    "    print(cross_val_score(rf, X, y, n_jobs=-1))\n",
    "    parameters = {  \"n_estimators\"         : [ 200 ], \n",
    "                    \"min_samples_leaf\"     : [  3 ],\n",
    "                    \"n_jobs\"               : [ -1]}\n",
    "    grid = GridSearchCV(rf, parameters, n_jobs=-1)\n",
    "    grid.fit(X_train, y_train)\n",
    "    print (grid.best_score_, grid.best_estimator_)"
   ]
  },
  {
   "cell_type": "markdown",
   "metadata": {},
   "source": [
    "On constate que plus on prend des paramètres du dataset, plus la précision augmente. \n",
    "C'est pour cela que dans notre étude, nous avons choisi de prendre tous les paramètres du dataset malgré l'étude sur les corrélations avec la variable cible plus haut"
   ]
  },
  {
   "cell_type": "markdown",
   "metadata": {},
   "source": [
    "### Exportation of model for API Machine Learning Model"
   ]
  },
  {
   "cell_type": "code",
   "execution_count": 239,
   "metadata": {},
   "outputs": [],
   "source": [
    "import pickle\n",
    "pickle.dump(model_LR, open('models/final_prediction_logistic_regression.pickle', 'wb'))\n",
    "pickle.dump(model_LR_SMOTE, open('models/final_prediction_logistic_regression_SMOTE.pickle', 'wb'))\n",
    "pickle.dump(model_RF, open('models/final_prediction_random_forest.pickle', 'wb'))\n",
    "pickle.dump(model_KNN, open('models/final_prediction_KNN.pickle', 'wb'))\n",
    "pickle.dump(model_CLF, open('models/final_prediction_CLF.pickle', 'wb'))"
   ]
  },
  {
   "cell_type": "code",
   "execution_count": 240,
   "metadata": {},
   "outputs": [
    {
     "data": {
      "text/plain": [
       "array([8.0000e+00, 0.0000e+00, 3.8000e+01, 0.0000e+00, 4.3700e+03,\n",
       "       7.1000e+01, 5.0000e+00, 1.7000e+01, 3.0000e+00, 1.0000e+00,\n",
       "       1.0000e+00, 3.0000e+01, 1.9764e+02])"
      ]
     },
     "execution_count": 240,
     "metadata": {},
     "output_type": "execute_result"
    }
   ],
   "source": [
    "X_train.loc[0].values # Exemple de valeurs pour l'API"
   ]
  },
  {
   "cell_type": "code",
   "execution_count": null,
   "metadata": {},
   "outputs": [],
   "source": []
  }
 ],
 "metadata": {
  "kernelspec": {
   "display_name": "Python 3",
   "language": "python",
   "name": "python3"
  },
  "language_info": {
   "codemirror_mode": {
    "name": "ipython",
    "version": 3
   },
   "file_extension": ".py",
   "mimetype": "text/x-python",
   "name": "python",
   "nbconvert_exporter": "python",
   "pygments_lexer": "ipython3",
   "version": "3.8.3"
  }
 },
 "nbformat": 4,
 "nbformat_minor": 4
}
